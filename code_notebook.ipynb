{
 "cells": [
  {
   "cell_type": "markdown",
   "id": "d0ced617-6c52-4fea-92b5-8a94bf6efcbc",
   "metadata": {},
   "source": [
    "WINE QUALITY ANALYSIS"
   ]
  },
  {
   "cell_type": "markdown",
   "id": "e6ff9f97-1365-4793-a033-4791f34f8436",
   "metadata": {},
   "source": [
    "In the below analysis I decided to take a closer look at wine data. The dataset is taken from Kaggle here: https://www.kaggle.com/zynicide/wine-reviews The contributor of the dataset was exploring how the wine variety could be predicted from the text of the review. Although it's an interesting topic, I would rather like to look at which variables impact the quality of the wine and whether it can be predicted."
   ]
  },
  {
   "cell_type": "markdown",
   "id": "dbbaa90a-ec10-42aa-8dd8-3509ed997ccb",
   "metadata": {},
   "source": [
    "These are the questions that's I'd like to answer:\n",
    "> 1. Which values of variables signify a higher wine quality? \n",
    "> 2. Does higher price correlate with the higher quality of the wine (scored by the users)?\n",
    "> 3. Can we accurately predict the quality of the wine knowing other variables? "
   ]
  },
  {
   "cell_type": "markdown",
   "id": "25bb521f-3953-478f-8248-1df8ff57bae0",
   "metadata": {},
   "source": [
    "First let's examine the data. We will combine the two datasets provided in the package."
   ]
  },
  {
   "cell_type": "code",
   "execution_count": 1,
   "id": "89146627-dbf0-4033-8f43-79a3bdbd35fc",
   "metadata": {},
   "outputs": [
    {
     "data": {
      "text/html": [
       "<div>\n",
       "<style scoped>\n",
       "    .dataframe tbody tr th:only-of-type {\n",
       "        vertical-align: middle;\n",
       "    }\n",
       "\n",
       "    .dataframe tbody tr th {\n",
       "        vertical-align: top;\n",
       "    }\n",
       "\n",
       "    .dataframe thead th {\n",
       "        text-align: right;\n",
       "    }\n",
       "</style>\n",
       "<table border=\"1\" class=\"dataframe\">\n",
       "  <thead>\n",
       "    <tr style=\"text-align: right;\">\n",
       "      <th></th>\n",
       "      <th>Unnamed: 0</th>\n",
       "      <th>country</th>\n",
       "      <th>description</th>\n",
       "      <th>designation</th>\n",
       "      <th>points</th>\n",
       "      <th>price</th>\n",
       "      <th>province</th>\n",
       "      <th>region_1</th>\n",
       "      <th>region_2</th>\n",
       "      <th>variety</th>\n",
       "      <th>winery</th>\n",
       "      <th>taster_name</th>\n",
       "      <th>taster_twitter_handle</th>\n",
       "      <th>title</th>\n",
       "    </tr>\n",
       "  </thead>\n",
       "  <tbody>\n",
       "    <tr>\n",
       "      <th>0</th>\n",
       "      <td>0</td>\n",
       "      <td>US</td>\n",
       "      <td>This tremendous 100% varietal wine hails from ...</td>\n",
       "      <td>Martha's Vineyard</td>\n",
       "      <td>96</td>\n",
       "      <td>235.0</td>\n",
       "      <td>California</td>\n",
       "      <td>Napa Valley</td>\n",
       "      <td>Napa</td>\n",
       "      <td>Cabernet Sauvignon</td>\n",
       "      <td>Heitz</td>\n",
       "      <td>NaN</td>\n",
       "      <td>NaN</td>\n",
       "      <td>NaN</td>\n",
       "    </tr>\n",
       "    <tr>\n",
       "      <th>1</th>\n",
       "      <td>1</td>\n",
       "      <td>Spain</td>\n",
       "      <td>Ripe aromas of fig, blackberry and cassis are ...</td>\n",
       "      <td>Carodorum Selección Especial Reserva</td>\n",
       "      <td>96</td>\n",
       "      <td>110.0</td>\n",
       "      <td>Northern Spain</td>\n",
       "      <td>Toro</td>\n",
       "      <td>NaN</td>\n",
       "      <td>Tinta de Toro</td>\n",
       "      <td>Bodega Carmen Rodríguez</td>\n",
       "      <td>NaN</td>\n",
       "      <td>NaN</td>\n",
       "      <td>NaN</td>\n",
       "    </tr>\n",
       "    <tr>\n",
       "      <th>2</th>\n",
       "      <td>2</td>\n",
       "      <td>US</td>\n",
       "      <td>Mac Watson honors the memory of a wine once ma...</td>\n",
       "      <td>Special Selected Late Harvest</td>\n",
       "      <td>96</td>\n",
       "      <td>90.0</td>\n",
       "      <td>California</td>\n",
       "      <td>Knights Valley</td>\n",
       "      <td>Sonoma</td>\n",
       "      <td>Sauvignon Blanc</td>\n",
       "      <td>Macauley</td>\n",
       "      <td>NaN</td>\n",
       "      <td>NaN</td>\n",
       "      <td>NaN</td>\n",
       "    </tr>\n",
       "    <tr>\n",
       "      <th>3</th>\n",
       "      <td>3</td>\n",
       "      <td>US</td>\n",
       "      <td>This spent 20 months in 30% new French oak, an...</td>\n",
       "      <td>Reserve</td>\n",
       "      <td>96</td>\n",
       "      <td>65.0</td>\n",
       "      <td>Oregon</td>\n",
       "      <td>Willamette Valley</td>\n",
       "      <td>Willamette Valley</td>\n",
       "      <td>Pinot Noir</td>\n",
       "      <td>Ponzi</td>\n",
       "      <td>NaN</td>\n",
       "      <td>NaN</td>\n",
       "      <td>NaN</td>\n",
       "    </tr>\n",
       "    <tr>\n",
       "      <th>4</th>\n",
       "      <td>4</td>\n",
       "      <td>France</td>\n",
       "      <td>This is the top wine from La Bégude, named aft...</td>\n",
       "      <td>La Brûlade</td>\n",
       "      <td>95</td>\n",
       "      <td>66.0</td>\n",
       "      <td>Provence</td>\n",
       "      <td>Bandol</td>\n",
       "      <td>NaN</td>\n",
       "      <td>Provence red blend</td>\n",
       "      <td>Domaine de la Bégude</td>\n",
       "      <td>NaN</td>\n",
       "      <td>NaN</td>\n",
       "      <td>NaN</td>\n",
       "    </tr>\n",
       "  </tbody>\n",
       "</table>\n",
       "</div>"
      ],
      "text/plain": [
       "   Unnamed: 0 country                                        description  \\\n",
       "0           0      US  This tremendous 100% varietal wine hails from ...   \n",
       "1           1   Spain  Ripe aromas of fig, blackberry and cassis are ...   \n",
       "2           2      US  Mac Watson honors the memory of a wine once ma...   \n",
       "3           3      US  This spent 20 months in 30% new French oak, an...   \n",
       "4           4  France  This is the top wine from La Bégude, named aft...   \n",
       "\n",
       "                            designation  points  price        province  \\\n",
       "0                     Martha's Vineyard      96  235.0      California   \n",
       "1  Carodorum Selección Especial Reserva      96  110.0  Northern Spain   \n",
       "2         Special Selected Late Harvest      96   90.0      California   \n",
       "3                               Reserve      96   65.0          Oregon   \n",
       "4                            La Brûlade      95   66.0        Provence   \n",
       "\n",
       "            region_1           region_2             variety  \\\n",
       "0        Napa Valley               Napa  Cabernet Sauvignon   \n",
       "1               Toro                NaN       Tinta de Toro   \n",
       "2     Knights Valley             Sonoma     Sauvignon Blanc   \n",
       "3  Willamette Valley  Willamette Valley          Pinot Noir   \n",
       "4             Bandol                NaN  Provence red blend   \n",
       "\n",
       "                    winery taster_name taster_twitter_handle title  \n",
       "0                    Heitz         NaN                   NaN   NaN  \n",
       "1  Bodega Carmen Rodríguez         NaN                   NaN   NaN  \n",
       "2                 Macauley         NaN                   NaN   NaN  \n",
       "3                    Ponzi         NaN                   NaN   NaN  \n",
       "4     Domaine de la Bégude         NaN                   NaN   NaN  "
      ]
     },
     "execution_count": 1,
     "metadata": {},
     "output_type": "execute_result"
    }
   ],
   "source": [
    "import numpy as np\n",
    "import pandas as pd\n",
    "import matplotlib.pyplot as plt\n",
    "from sklearn.ensemble import RandomForestRegressor\n",
    "from sklearn.ensemble import AdaBoostRegressor\n",
    "from sklearn.model_selection import train_test_split\n",
    "from sklearn.metrics import r2_score\n",
    "import seaborn as sns\n",
    "%matplotlib inline\n",
    "\n",
    "df = pd.read_csv('./winemag-data_first150k.csv')\n",
    "df = df.append(pd.read_csv('./winemag-data-130k-v2.csv'), ignore_index=True)\n",
    "df.head()"
   ]
  },
  {
   "cell_type": "code",
   "execution_count": 2,
   "id": "b0269d0c-0535-444b-9c12-952eb9e00159",
   "metadata": {},
   "outputs": [
    {
     "data": {
      "text/html": [
       "<div>\n",
       "<style scoped>\n",
       "    .dataframe tbody tr th:only-of-type {\n",
       "        vertical-align: middle;\n",
       "    }\n",
       "\n",
       "    .dataframe tbody tr th {\n",
       "        vertical-align: top;\n",
       "    }\n",
       "\n",
       "    .dataframe thead th {\n",
       "        text-align: right;\n",
       "    }\n",
       "</style>\n",
       "<table border=\"1\" class=\"dataframe\">\n",
       "  <thead>\n",
       "    <tr style=\"text-align: right;\">\n",
       "      <th></th>\n",
       "      <th>Unnamed: 0</th>\n",
       "      <th>points</th>\n",
       "      <th>price</th>\n",
       "    </tr>\n",
       "  </thead>\n",
       "  <tbody>\n",
       "    <tr>\n",
       "      <th>count</th>\n",
       "      <td>280901.000000</td>\n",
       "      <td>280901.000000</td>\n",
       "      <td>258210.000000</td>\n",
       "    </tr>\n",
       "    <tr>\n",
       "      <th>mean</th>\n",
       "      <td>70615.705960</td>\n",
       "      <td>88.146934</td>\n",
       "      <td>34.177162</td>\n",
       "    </tr>\n",
       "    <tr>\n",
       "      <th>std</th>\n",
       "      <td>41214.379445</td>\n",
       "      <td>3.151528</td>\n",
       "      <td>38.611708</td>\n",
       "    </tr>\n",
       "    <tr>\n",
       "      <th>min</th>\n",
       "      <td>0.000000</td>\n",
       "      <td>80.000000</td>\n",
       "      <td>4.000000</td>\n",
       "    </tr>\n",
       "    <tr>\n",
       "      <th>25%</th>\n",
       "      <td>35112.000000</td>\n",
       "      <td>86.000000</td>\n",
       "      <td>16.000000</td>\n",
       "    </tr>\n",
       "    <tr>\n",
       "      <th>50%</th>\n",
       "      <td>70225.000000</td>\n",
       "      <td>88.000000</td>\n",
       "      <td>25.000000</td>\n",
       "    </tr>\n",
       "    <tr>\n",
       "      <th>75%</th>\n",
       "      <td>105337.000000</td>\n",
       "      <td>90.000000</td>\n",
       "      <td>40.000000</td>\n",
       "    </tr>\n",
       "    <tr>\n",
       "      <th>max</th>\n",
       "      <td>150929.000000</td>\n",
       "      <td>100.000000</td>\n",
       "      <td>3300.000000</td>\n",
       "    </tr>\n",
       "  </tbody>\n",
       "</table>\n",
       "</div>"
      ],
      "text/plain": [
       "          Unnamed: 0         points          price\n",
       "count  280901.000000  280901.000000  258210.000000\n",
       "mean    70615.705960      88.146934      34.177162\n",
       "std     41214.379445       3.151528      38.611708\n",
       "min         0.000000      80.000000       4.000000\n",
       "25%     35112.000000      86.000000      16.000000\n",
       "50%     70225.000000      88.000000      25.000000\n",
       "75%    105337.000000      90.000000      40.000000\n",
       "max    150929.000000     100.000000    3300.000000"
      ]
     },
     "execution_count": 2,
     "metadata": {},
     "output_type": "execute_result"
    }
   ],
   "source": [
    "df.describe()"
   ]
  },
  {
   "cell_type": "code",
   "execution_count": 3,
   "id": "a624a9ef-a261-466e-9540-b4f85f54049a",
   "metadata": {},
   "outputs": [
    {
     "name": "stdout",
     "output_type": "stream",
     "text": [
      "<class 'pandas.core.frame.DataFrame'>\n",
      "RangeIndex: 280901 entries, 0 to 280900\n",
      "Data columns (total 14 columns):\n",
      " #   Column                 Non-Null Count   Dtype  \n",
      "---  ------                 --------------   -----  \n",
      " 0   Unnamed: 0             280901 non-null  int64  \n",
      " 1   country                280833 non-null  object \n",
      " 2   description            280901 non-null  object \n",
      " 3   designation            197701 non-null  object \n",
      " 4   points                 280901 non-null  int64  \n",
      " 5   price                  258210 non-null  float64\n",
      " 6   province               280833 non-null  object \n",
      " 7   region_1               234594 non-null  object \n",
      " 8   region_2               111464 non-null  object \n",
      " 9   variety                280900 non-null  object \n",
      " 10  winery                 280901 non-null  object \n",
      " 11  taster_name            103727 non-null  object \n",
      " 12  taster_twitter_handle  98758 non-null   object \n",
      " 13  title                  129971 non-null  object \n",
      "dtypes: float64(1), int64(2), object(11)\n",
      "memory usage: 30.0+ MB\n"
     ]
    }
   ],
   "source": [
    "df.info()"
   ]
  },
  {
   "cell_type": "markdown",
   "id": "d8237cb6-0eea-4514-af5b-6a5a84cbd814",
   "metadata": {},
   "source": [
    "So, in the dataset we have an \"Unnamed: 0\" column which seems to be index. We can drop it. Also  \"Description\" isn't relevant for this study, personal data also can go out, as well as 'title', because we have it only in the second dataset. We will keep the price , because it should be important in understanding the quality."
   ]
  },
  {
   "cell_type": "code",
   "execution_count": 4,
   "id": "e04e1f59-33ef-49a4-b3b9-07f5b7ba2a83",
   "metadata": {},
   "outputs": [],
   "source": [
    "df = df.drop(['Unnamed: 0','description', 'taster_name', 'taster_twitter_handle', 'title'], axis=1)"
   ]
  },
  {
   "cell_type": "code",
   "execution_count": 5,
   "id": "df80b31a-8125-427e-b9f8-69703b36c73d",
   "metadata": {},
   "outputs": [
    {
     "data": {
      "text/html": [
       "<div>\n",
       "<style scoped>\n",
       "    .dataframe tbody tr th:only-of-type {\n",
       "        vertical-align: middle;\n",
       "    }\n",
       "\n",
       "    .dataframe tbody tr th {\n",
       "        vertical-align: top;\n",
       "    }\n",
       "\n",
       "    .dataframe thead th {\n",
       "        text-align: right;\n",
       "    }\n",
       "</style>\n",
       "<table border=\"1\" class=\"dataframe\">\n",
       "  <thead>\n",
       "    <tr style=\"text-align: right;\">\n",
       "      <th></th>\n",
       "      <th>country</th>\n",
       "      <th>designation</th>\n",
       "      <th>points</th>\n",
       "      <th>price</th>\n",
       "      <th>province</th>\n",
       "      <th>region_1</th>\n",
       "      <th>region_2</th>\n",
       "      <th>variety</th>\n",
       "      <th>winery</th>\n",
       "    </tr>\n",
       "  </thead>\n",
       "  <tbody>\n",
       "    <tr>\n",
       "      <th>0</th>\n",
       "      <td>US</td>\n",
       "      <td>Martha's Vineyard</td>\n",
       "      <td>96</td>\n",
       "      <td>235.0</td>\n",
       "      <td>California</td>\n",
       "      <td>Napa Valley</td>\n",
       "      <td>Napa</td>\n",
       "      <td>Cabernet Sauvignon</td>\n",
       "      <td>Heitz</td>\n",
       "    </tr>\n",
       "    <tr>\n",
       "      <th>1</th>\n",
       "      <td>Spain</td>\n",
       "      <td>Carodorum Selección Especial Reserva</td>\n",
       "      <td>96</td>\n",
       "      <td>110.0</td>\n",
       "      <td>Northern Spain</td>\n",
       "      <td>Toro</td>\n",
       "      <td>NaN</td>\n",
       "      <td>Tinta de Toro</td>\n",
       "      <td>Bodega Carmen Rodríguez</td>\n",
       "    </tr>\n",
       "    <tr>\n",
       "      <th>2</th>\n",
       "      <td>US</td>\n",
       "      <td>Special Selected Late Harvest</td>\n",
       "      <td>96</td>\n",
       "      <td>90.0</td>\n",
       "      <td>California</td>\n",
       "      <td>Knights Valley</td>\n",
       "      <td>Sonoma</td>\n",
       "      <td>Sauvignon Blanc</td>\n",
       "      <td>Macauley</td>\n",
       "    </tr>\n",
       "    <tr>\n",
       "      <th>3</th>\n",
       "      <td>US</td>\n",
       "      <td>Reserve</td>\n",
       "      <td>96</td>\n",
       "      <td>65.0</td>\n",
       "      <td>Oregon</td>\n",
       "      <td>Willamette Valley</td>\n",
       "      <td>Willamette Valley</td>\n",
       "      <td>Pinot Noir</td>\n",
       "      <td>Ponzi</td>\n",
       "    </tr>\n",
       "    <tr>\n",
       "      <th>4</th>\n",
       "      <td>France</td>\n",
       "      <td>La Brûlade</td>\n",
       "      <td>95</td>\n",
       "      <td>66.0</td>\n",
       "      <td>Provence</td>\n",
       "      <td>Bandol</td>\n",
       "      <td>NaN</td>\n",
       "      <td>Provence red blend</td>\n",
       "      <td>Domaine de la Bégude</td>\n",
       "    </tr>\n",
       "  </tbody>\n",
       "</table>\n",
       "</div>"
      ],
      "text/plain": [
       "  country                           designation  points  price  \\\n",
       "0      US                     Martha's Vineyard      96  235.0   \n",
       "1   Spain  Carodorum Selección Especial Reserva      96  110.0   \n",
       "2      US         Special Selected Late Harvest      96   90.0   \n",
       "3      US                               Reserve      96   65.0   \n",
       "4  France                            La Brûlade      95   66.0   \n",
       "\n",
       "         province           region_1           region_2             variety  \\\n",
       "0      California        Napa Valley               Napa  Cabernet Sauvignon   \n",
       "1  Northern Spain               Toro                NaN       Tinta de Toro   \n",
       "2      California     Knights Valley             Sonoma     Sauvignon Blanc   \n",
       "3          Oregon  Willamette Valley  Willamette Valley          Pinot Noir   \n",
       "4        Provence             Bandol                NaN  Provence red blend   \n",
       "\n",
       "                    winery  \n",
       "0                    Heitz  \n",
       "1  Bodega Carmen Rodríguez  \n",
       "2                 Macauley  \n",
       "3                    Ponzi  \n",
       "4     Domaine de la Bégude  "
      ]
     },
     "execution_count": 5,
     "metadata": {},
     "output_type": "execute_result"
    }
   ],
   "source": [
    "df.head()"
   ]
  },
  {
   "cell_type": "markdown",
   "id": "212f2c0c-782b-4c4a-a6d1-90c67a45f2ac",
   "metadata": {},
   "source": [
    "Now let's check if we have any duplicates and missing data."
   ]
  },
  {
   "cell_type": "code",
   "execution_count": 6,
   "id": "7293cec4-5e9f-469c-b320-b47f75e6c0fc",
   "metadata": {},
   "outputs": [],
   "source": [
    "df['duplicate'] = df.duplicated(subset=None, keep='first')"
   ]
  },
  {
   "cell_type": "code",
   "execution_count": 7,
   "id": "5ac80277-97b8-4082-861c-77d3afadd2ba",
   "metadata": {},
   "outputs": [
    {
     "data": {
      "text/html": [
       "<div>\n",
       "<style scoped>\n",
       "    .dataframe tbody tr th:only-of-type {\n",
       "        vertical-align: middle;\n",
       "    }\n",
       "\n",
       "    .dataframe tbody tr th {\n",
       "        vertical-align: top;\n",
       "    }\n",
       "\n",
       "    .dataframe thead th {\n",
       "        text-align: right;\n",
       "    }\n",
       "</style>\n",
       "<table border=\"1\" class=\"dataframe\">\n",
       "  <thead>\n",
       "    <tr style=\"text-align: right;\">\n",
       "      <th></th>\n",
       "      <th>country</th>\n",
       "      <th>designation</th>\n",
       "      <th>points</th>\n",
       "      <th>price</th>\n",
       "      <th>province</th>\n",
       "      <th>region_1</th>\n",
       "      <th>region_2</th>\n",
       "      <th>variety</th>\n",
       "      <th>winery</th>\n",
       "      <th>duplicate</th>\n",
       "    </tr>\n",
       "  </thead>\n",
       "  <tbody>\n",
       "    <tr>\n",
       "      <th>0</th>\n",
       "      <td>US</td>\n",
       "      <td>Martha's Vineyard</td>\n",
       "      <td>96</td>\n",
       "      <td>235.0</td>\n",
       "      <td>California</td>\n",
       "      <td>Napa Valley</td>\n",
       "      <td>Napa</td>\n",
       "      <td>Cabernet Sauvignon</td>\n",
       "      <td>Heitz</td>\n",
       "      <td>False</td>\n",
       "    </tr>\n",
       "    <tr>\n",
       "      <th>1</th>\n",
       "      <td>Spain</td>\n",
       "      <td>Carodorum Selección Especial Reserva</td>\n",
       "      <td>96</td>\n",
       "      <td>110.0</td>\n",
       "      <td>Northern Spain</td>\n",
       "      <td>Toro</td>\n",
       "      <td>NaN</td>\n",
       "      <td>Tinta de Toro</td>\n",
       "      <td>Bodega Carmen Rodríguez</td>\n",
       "      <td>False</td>\n",
       "    </tr>\n",
       "    <tr>\n",
       "      <th>2</th>\n",
       "      <td>US</td>\n",
       "      <td>Special Selected Late Harvest</td>\n",
       "      <td>96</td>\n",
       "      <td>90.0</td>\n",
       "      <td>California</td>\n",
       "      <td>Knights Valley</td>\n",
       "      <td>Sonoma</td>\n",
       "      <td>Sauvignon Blanc</td>\n",
       "      <td>Macauley</td>\n",
       "      <td>False</td>\n",
       "    </tr>\n",
       "    <tr>\n",
       "      <th>3</th>\n",
       "      <td>US</td>\n",
       "      <td>Reserve</td>\n",
       "      <td>96</td>\n",
       "      <td>65.0</td>\n",
       "      <td>Oregon</td>\n",
       "      <td>Willamette Valley</td>\n",
       "      <td>Willamette Valley</td>\n",
       "      <td>Pinot Noir</td>\n",
       "      <td>Ponzi</td>\n",
       "      <td>False</td>\n",
       "    </tr>\n",
       "    <tr>\n",
       "      <th>4</th>\n",
       "      <td>France</td>\n",
       "      <td>La Brûlade</td>\n",
       "      <td>95</td>\n",
       "      <td>66.0</td>\n",
       "      <td>Provence</td>\n",
       "      <td>Bandol</td>\n",
       "      <td>NaN</td>\n",
       "      <td>Provence red blend</td>\n",
       "      <td>Domaine de la Bégude</td>\n",
       "      <td>False</td>\n",
       "    </tr>\n",
       "  </tbody>\n",
       "</table>\n",
       "</div>"
      ],
      "text/plain": [
       "  country                           designation  points  price  \\\n",
       "0      US                     Martha's Vineyard      96  235.0   \n",
       "1   Spain  Carodorum Selección Especial Reserva      96  110.0   \n",
       "2      US         Special Selected Late Harvest      96   90.0   \n",
       "3      US                               Reserve      96   65.0   \n",
       "4  France                            La Brûlade      95   66.0   \n",
       "\n",
       "         province           region_1           region_2             variety  \\\n",
       "0      California        Napa Valley               Napa  Cabernet Sauvignon   \n",
       "1  Northern Spain               Toro                NaN       Tinta de Toro   \n",
       "2      California     Knights Valley             Sonoma     Sauvignon Blanc   \n",
       "3          Oregon  Willamette Valley  Willamette Valley          Pinot Noir   \n",
       "4        Provence             Bandol                NaN  Provence red blend   \n",
       "\n",
       "                    winery  duplicate  \n",
       "0                    Heitz      False  \n",
       "1  Bodega Carmen Rodríguez      False  \n",
       "2                 Macauley      False  \n",
       "3                    Ponzi      False  \n",
       "4     Domaine de la Bégude      False  "
      ]
     },
     "execution_count": 7,
     "metadata": {},
     "output_type": "execute_result"
    }
   ],
   "source": [
    "df.head()"
   ]
  },
  {
   "cell_type": "code",
   "execution_count": 8,
   "id": "3af467f3-92f4-4f49-b169-67cf6eca5292",
   "metadata": {},
   "outputs": [],
   "source": [
    "idx = df[df['duplicate'] == True].index\n",
    "df.drop(idx, inplace=True)"
   ]
  },
  {
   "cell_type": "code",
   "execution_count": 9,
   "id": "3f5a52f5-7524-47ea-820a-f526897712b4",
   "metadata": {},
   "outputs": [],
   "source": [
    "df = df.drop(['duplicate'], axis=1)"
   ]
  },
  {
   "cell_type": "code",
   "execution_count": 10,
   "id": "383e31bf-8da5-4813-bbb3-dfae08eea0f8",
   "metadata": {},
   "outputs": [
    {
     "data": {
      "text/plain": [
       "country         0.036157\n",
       "designation    29.286170\n",
       "points          0.000000\n",
       "price           7.450238\n",
       "province        0.036157\n",
       "region_1       16.450336\n",
       "region_2       60.608178\n",
       "variety         0.000613\n",
       "winery          0.000000\n",
       "dtype: float64"
      ]
     },
     "execution_count": 10,
     "metadata": {},
     "output_type": "execute_result"
    }
   ],
   "source": [
    "(np.sum(df.isnull())/df.shape[0])*100"
   ]
  },
  {
   "cell_type": "markdown",
   "id": "fd3bcd28-6d20-417c-980b-0ec93884dc57",
   "metadata": {},
   "source": [
    "We have two columns with no missing values (points and winery), 7,8% missing values in price (we'll drop these rows to enable predictions, I wouldn't impute here, because we can't ensure that it won't impact prediction quality), and over 60% missing values in region_2. Since region_1 is a more precise location of the winery, we can drop region_2 from the dataset. We will also drop missing rows from province, variety and region_1, the missing values here do not convey an additional meaning."
   ]
  },
  {
   "cell_type": "code",
   "execution_count": 11,
   "id": "410d56b5-830c-4fbb-9084-36d4e34545c4",
   "metadata": {},
   "outputs": [],
   "source": [
    "clean_df = df.dropna(subset=['price','province','variety','region_1'], axis=0)"
   ]
  },
  {
   "cell_type": "code",
   "execution_count": 12,
   "id": "16b3368b-ce7c-47c1-b9fc-6589c3add6f1",
   "metadata": {},
   "outputs": [
    {
     "data": {
      "text/plain": [
       "country         0.000000\n",
       "designation    31.315417\n",
       "points          0.000000\n",
       "price           0.000000\n",
       "province        0.000000\n",
       "region_1        0.000000\n",
       "region_2       49.403881\n",
       "variety         0.000000\n",
       "winery          0.000000\n",
       "dtype: float64"
      ]
     },
     "execution_count": 12,
     "metadata": {},
     "output_type": "execute_result"
    }
   ],
   "source": [
    "(np.sum(clean_df.isnull())/clean_df.shape[0])*100"
   ]
  },
  {
   "cell_type": "markdown",
   "id": "abd0758d-bec5-4007-bec6-6b01b4452a85",
   "metadata": {},
   "source": [
    "So, after dropping missing prices the situation with region_2 hasn't improved much, 'designation' also increased, so it goes out too."
   ]
  },
  {
   "cell_type": "code",
   "execution_count": 13,
   "id": "6043ce00-e437-4675-befb-3107a3947b96",
   "metadata": {},
   "outputs": [],
   "source": [
    "clean_df = clean_df.drop(['region_2', 'designation'], axis=1)"
   ]
  },
  {
   "cell_type": "code",
   "execution_count": 14,
   "id": "23ca3b63-70a8-464d-b704-9a1525d508cc",
   "metadata": {},
   "outputs": [
    {
     "data": {
      "text/plain": [
       "country      0.005538\n",
       "province     0.052215\n",
       "region_1     1.034011\n",
       "variety      0.428794\n",
       "winery      12.393889\n",
       "dtype: float64"
      ]
     },
     "execution_count": 14,
     "metadata": {},
     "output_type": "execute_result"
    }
   ],
   "source": [
    "(clean_df.select_dtypes(include=['object']).nunique()/clean_df.shape[0])*100 # % of unique values in each column"
   ]
  },
  {
   "cell_type": "markdown",
   "id": "ce4b9570-3556-42d4-9855-4088a20586ef",
   "metadata": {},
   "source": [
    "Winery have a high share of unique values in the column, so we won't use them neither in the plots nor for the predictions, because one-hot encoding them will require a lot of power."
   ]
  },
  {
   "cell_type": "code",
   "execution_count": 15,
   "id": "d7291c21-fcc0-407b-a9d8-8b414f55ed7b",
   "metadata": {},
   "outputs": [],
   "source": [
    "clean_df_mini = clean_df.drop(['winery'], axis=1)"
   ]
  },
  {
   "cell_type": "markdown",
   "id": "0a5adadc-251b-43fe-81c2-0bc64f921f86",
   "metadata": {
    "tags": []
   },
   "source": [
    "Now let's take a closer look at points and price."
   ]
  },
  {
   "cell_type": "code",
   "execution_count": 16,
   "id": "bab9d71d-3cac-4654-8ffe-18a92426ada2",
   "metadata": {},
   "outputs": [
    {
     "data": {
      "text/plain": [
       "array([[<AxesSubplot:title={'center':'points'}>]], dtype=object)"
      ]
     },
     "execution_count": 16,
     "metadata": {},
     "output_type": "execute_result"
    },
    {
     "data": {
      "image/png": "[encoded data removed]",
      "text/plain": [
       "<Figure size 432x288 with 1 Axes>"
      ]
     },
     "metadata": {
      "needs_background": "light"
     },
     "output_type": "display_data"
    }
   ],
   "source": [
    "clean_df_mini.hist('points', bins = 3)"
   ]
  },
  {
   "cell_type": "code",
   "execution_count": 17,
   "id": "76f96814-8ae2-4710-9290-7f7066012184",
   "metadata": {},
   "outputs": [
    {
     "data": {
      "text/plain": [
       "count    126401.000000\n",
       "mean         36.351825\n",
       "std          41.387406\n",
       "min           4.000000\n",
       "25%          18.000000\n",
       "50%          27.000000\n",
       "75%          45.000000\n",
       "max        3300.000000\n",
       "Name: price, dtype: float64"
      ]
     },
     "execution_count": 17,
     "metadata": {},
     "output_type": "execute_result"
    }
   ],
   "source": [
    "clean_df_mini['price'].describe()"
   ]
  },
  {
   "cell_type": "markdown",
   "id": "a7f65df6-3069-4509-88c6-2d61b215881a",
   "metadata": {},
   "source": [
    "The quality score points span from 80 to 100. Let's create a categorical column based on 3 quality bins. We will also define 4 price ranges for future analysis."
   ]
  },
  {
   "cell_type": "code",
   "execution_count": 18,
   "id": "7a1d4c87-cc75-4678-ac84-3f972a78b31e",
   "metadata": {},
   "outputs": [],
   "source": [
    "def estimate_quality(value):\n",
    "    if 80 <= value < 87:\n",
    "        return 'low'\n",
    "    elif 87 <= value < 93:\n",
    "        return 'average'\n",
    "    elif value >= 93:\n",
    "        return 'high'\n",
    "    return 'other'\n",
    "\n",
    "clean_df_mini['quality'] = clean_df_mini['points'].apply(estimate_quality)"
   ]
  },
  {
   "cell_type": "code",
   "execution_count": 19,
   "id": "b09a8038-ffb3-4c0c-adeb-356d3e3b18c1",
   "metadata": {},
   "outputs": [],
   "source": [
    "def estimate_price(value):\n",
    "    if value < 16:\n",
    "        return 'low'\n",
    "    elif 16 <= value < 25:\n",
    "        return 'average'\n",
    "    elif 25 <= value < 41:\n",
    "        return 'high'\n",
    "    elif value >= 41:\n",
    "        return 'highest'\n",
    "    return 'other'\n",
    "\n",
    "clean_df_mini['price_range'] = clean_df_mini['price'].apply(estimate_price)"
   ]
  },
  {
   "cell_type": "markdown",
   "id": "e60f48de-ba7d-4a09-af32-48470c03eae3",
   "metadata": {},
   "source": [
    "Now we will group and plot other categories and look at the average price and corresponding quality of wines for the top  10 category members."
   ]
  },
  {
   "cell_type": "markdown",
   "id": "d988e299-9fe5-4aed-9811-42e4c87bb0d9",
   "metadata": {},
   "source": [
    "First we'd like to check how many unique members we have in each categorical column. Too many unique members would make the finding for that column insignificant, so we shouldn't analyse them for generic trends."
   ]
  },
  {
   "cell_type": "code",
   "execution_count": 20,
   "id": "23be3379-07ab-4863-93d7-cf408925bb5a",
   "metadata": {},
   "outputs": [],
   "source": [
    "clean_df_mini['counts'] = 1 #create a counter for plots"
   ]
  },
  {
   "cell_type": "code",
   "execution_count": 21,
   "id": "d4fe2cd0-8e1d-45c5-ae31-62e75e378d25",
   "metadata": {},
   "outputs": [],
   "source": [
    "def check_col(col):\n",
    "    \n",
    "    quality = clean_df_mini.groupby([col], as_index=False).agg({'points': 'mean'})\n",
    "    quality = quality.sort_values(by = ['points'], ascending=False)\n",
    "    \n",
    "    mean_pq = clean_df_mini.groupby([col,'price_range','quality'], as_index=False).agg({'price':'median', 'counts': 'sum'})\n",
    "    mean_pq = mean_pq[mean_pq['price_range'].isin(['highest', 'high'])]\n",
    "    mean_pq_total = mean_pq.groupby([col]).agg({'counts': 'sum'}).rename(columns={'counts': 'total'})\n",
    "    mean_pq = mean_pq.join(mean_pq_total, on=col)\n",
    "    mean_pq['percent'] = (mean_pq['counts']/mean_pq['total'])*100\n",
    "    mean_pq = mean_pq.sort_values(by = ['price'], ascending=False)\n",
    "    \n",
    "    mean_qp = clean_df_mini.groupby([col,'price_range','quality'], as_index=False).agg({'points':'mean', 'counts': 'sum'})\n",
    "    mean_qp = mean_qp[mean_qp['quality']=='high']\n",
    "    mean_qp_total = mean_qp.groupby([col]).agg({'counts': 'sum'}).rename(columns={'counts': 'total'})\n",
    "    mean_qp = mean_qp.join(mean_qp_total, on=col)\n",
    "    mean_qp['percent'] = (mean_qp['counts']/mean_qp['total'])*100\n",
    "    mean_qp = mean_qp.sort_values(by = ['points'], ascending=False)\n",
    "\n",
    "    # Stacked percentage bar chart to show the proportion of high-price wines in different quality categories for the selected category column.\n",
    "    plt.figure(figsize=(5, 4))\n",
    "    sns.histplot(x=col, \n",
    "                weights='percent', \n",
    "                hue='quality',\n",
    "                multiple='stack',\n",
    "                data=mean_pq)\n",
    "    plt.xticks(rotation=90)\n",
    "    plt.ylabel(\"% of High Price Wines\", size=14)\n",
    "    plt.xlabel('{0}'.format(col), size=14)\n",
    "    plt.xlim(-0.5, 4.5)\n",
    "    plt.title('Top 5 {0} for high-priced wines by quality'.format(col), size=18)\n",
    "\n",
    "    # Stacked percentage bar chart to show the proportion of high-quality wines in different price ranges for the selected category column.\n",
    "    plt.figure(figsize=(5, 4))\n",
    "    sns.histplot(x=col, \n",
    "                weights='percent', \n",
    "                hue='price_range',\n",
    "                multiple='stack',\n",
    "                data=mean_qp)\n",
    "    plt.xticks(rotation=90)\n",
    "    plt.ylabel(\"% of High Quality Wines\", size=14)\n",
    "    plt.xlabel('{0}'.format(col), size=14)\n",
    "    plt.xlim(-0.5, 4.5)\n",
    "    plt.title('Top 5 {0} for high-quality wines by price range'.format(col), size=18)\n",
    "    \n",
    "    # Bar chart showing mean wine quality (descending) by selected category.\n",
    "    plt.figure(figsize=(5, 4))\n",
    "    sns.barplot(x=col, \n",
    "                y='points', \n",
    "                data=quality)\n",
    "    plt.xticks(rotation=90)\n",
    "    plt.ylabel(\"Wine Quality\", size=14)\n",
    "    plt.xlabel('{0}'.format(col), size=14)\n",
    "    plt.xlim(-0.5, 4.5)\n",
    "    plt.ylim(80, None)\n",
    "    plt.title('Top 5 {0} by wine quality'.format(col), size=18)"
   ]
  },
  {
   "cell_type": "code",
   "execution_count": 22,
   "id": "5dee7577-fd11-45f8-8538-f5587969ede2",
   "metadata": {},
   "outputs": [
    {
     "data": {
      "image/png": "[encoded data removed]",
      "text/plain": [
       "<Figure size 360x288 with 1 Axes>"
      ]
     },
     "metadata": {
      "needs_background": "light"
     },
     "output_type": "display_data"
    },
    {
     "data": {
      "image/png": "[encoded data removed]",
      "text/plain": [
       "<Figure size 360x288 with 1 Axes>"
      ]
     },
     "metadata": {
      "needs_background": "light"
     },
     "output_type": "display_data"
    },
    {
     "data": {
      "image/png": "[encoded data removed]",
      "text/plain": [
       "<Figure size 360x288 with 1 Axes>"
      ]
     },
     "metadata": {
      "needs_background": "light"
     },
     "output_type": "display_data"
    }
   ],
   "source": [
    "check_col('country')"
   ]
  },
  {
   "cell_type": "markdown",
   "id": "5127f739-2996-4f71-89ab-77517372d516",
   "metadata": {},
   "source": [
    "Interesting observation here, high quality means high price, but high price does not necessarily mean high quality on the country level. In fact, most of the highly priced wines are of average quality."
   ]
  },
  {
   "cell_type": "code",
   "execution_count": 23,
   "id": "d9dd28fd-0919-453b-a9ae-a4f4fdf8bbd7",
   "metadata": {},
   "outputs": [
    {
     "data": {
      "image/png": "[encoded data removed]",
      "text/plain": [
       "<Figure size 360x288 with 1 Axes>"
      ]
     },
     "metadata": {
      "needs_background": "light"
     },
     "output_type": "display_data"
    },
    {
     "data": {
      "image/png": "[encoded data removed]",
      "text/plain": [
       "<Figure size 360x288 with 1 Axes>"
      ]
     },
     "metadata": {
      "needs_background": "light"
     },
     "output_type": "display_data"
    },
    {
     "data": {
      "image/png": "[encoded data removed]",
      "text/plain": [
       "<Figure size 360x288 with 1 Axes>"
      ]
     },
     "metadata": {
      "needs_background": "light"
     },
     "output_type": "display_data"
    },
    {
     "data": {
      "image/png": "[encoded data removed]",
      "text/plain": [
       "<Figure size 360x288 with 1 Axes>"
      ]
     },
     "metadata": {
      "needs_background": "light"
     },
     "output_type": "display_data"
    },
    {
     "data": {
      "image/png": "[encoded data removed]",
      "text/plain": [
       "<Figure size 360x288 with 1 Axes>"
      ]
     },
     "metadata": {
      "needs_background": "light"
     },
     "output_type": "display_data"
    },
    {
     "data": {
      "image/png": "[encoded data removed]",
      "text/plain": [
       "<Figure size 360x288 with 1 Axes>"
      ]
     },
     "metadata": {
      "needs_background": "light"
     },
     "output_type": "display_data"
    }
   ],
   "source": [
    "check_col('region_1')\n",
    "check_col('province')"
   ]
  },
  {
   "cell_type": "markdown",
   "id": "132bc7a4-bb1a-42cc-b9f9-e76a3d736015",
   "metadata": {},
   "source": [
    "On the region level there is a positive correlation between price and points both ways (high price means high quality, high quality means high price), province, however, falls in the pattern of country."
   ]
  },
  {
   "cell_type": "code",
   "execution_count": 24,
   "id": "0bd63e2a-3cc5-4a55-8fea-e37c0ef6e906",
   "metadata": {},
   "outputs": [
    {
     "data": {
      "image/png": "[encoded data removed]",
      "text/plain": [
       "<Figure size 360x288 with 1 Axes>"
      ]
     },
     "metadata": {
      "needs_background": "light"
     },
     "output_type": "display_data"
    },
    {
     "data": {
      "image/png": "[encoded data removed]",
      "text/plain": [
       "<Figure size 360x288 with 1 Axes>"
      ]
     },
     "metadata": {
      "needs_background": "light"
     },
     "output_type": "display_data"
    },
    {
     "data": {
      "image/png": "[encoded data removed]",
      "text/plain": [
       "<Figure size 360x288 with 1 Axes>"
      ]
     },
     "metadata": {
      "needs_background": "light"
     },
     "output_type": "display_data"
    }
   ],
   "source": [
    "check_col('variety')"
   ]
  },
  {
   "cell_type": "markdown",
   "id": "fb370579-5dca-4962-88ac-0e08d437a03b",
   "metadata": {},
   "source": [
    "Variety rather follows the pattern of region, than of country and province. Highly priced wines balance in the high and average quality, whereas high quality definitely means high price."
   ]
  },
  {
   "cell_type": "code",
   "execution_count": 25,
   "id": "305407b5-e46a-42d4-adde-45d5afbac611",
   "metadata": {},
   "outputs": [],
   "source": [
    "clean_df_mini = clean_df_mini.drop(['counts','quality','price_range'], axis=1) #drop additional columns we don't need anymore"
   ]
  },
  {
   "cell_type": "markdown",
   "id": "6ebf5e78-1b58-4168-bf65-b4271e95862c",
   "metadata": {},
   "source": [
    "Now that we have a good understanding of the data, let's attempt to predict the quality. First we need to dummy the categorical variables, all numerical variables are already filled."
   ]
  },
  {
   "cell_type": "code",
   "execution_count": 26,
   "id": "1fd75c6c-4561-4f94-9e12-9c4118c7ec00",
   "metadata": {},
   "outputs": [
    {
     "data": {
      "text/html": [
       "<div>\n",
       "<style scoped>\n",
       "    .dataframe tbody tr th:only-of-type {\n",
       "        vertical-align: middle;\n",
       "    }\n",
       "\n",
       "    .dataframe tbody tr th {\n",
       "        vertical-align: top;\n",
       "    }\n",
       "\n",
       "    .dataframe thead th {\n",
       "        text-align: right;\n",
       "    }\n",
       "</style>\n",
       "<table border=\"1\" class=\"dataframe\">\n",
       "  <thead>\n",
       "    <tr style=\"text-align: right;\">\n",
       "      <th></th>\n",
       "      <th>country</th>\n",
       "      <th>points</th>\n",
       "      <th>price</th>\n",
       "      <th>province</th>\n",
       "      <th>region_1</th>\n",
       "      <th>variety</th>\n",
       "    </tr>\n",
       "  </thead>\n",
       "  <tbody>\n",
       "    <tr>\n",
       "      <th>0</th>\n",
       "      <td>US</td>\n",
       "      <td>96</td>\n",
       "      <td>235.0</td>\n",
       "      <td>California</td>\n",
       "      <td>Napa Valley</td>\n",
       "      <td>Cabernet Sauvignon</td>\n",
       "    </tr>\n",
       "    <tr>\n",
       "      <th>1</th>\n",
       "      <td>Spain</td>\n",
       "      <td>96</td>\n",
       "      <td>110.0</td>\n",
       "      <td>Northern Spain</td>\n",
       "      <td>Toro</td>\n",
       "      <td>Tinta de Toro</td>\n",
       "    </tr>\n",
       "    <tr>\n",
       "      <th>2</th>\n",
       "      <td>US</td>\n",
       "      <td>96</td>\n",
       "      <td>90.0</td>\n",
       "      <td>California</td>\n",
       "      <td>Knights Valley</td>\n",
       "      <td>Sauvignon Blanc</td>\n",
       "    </tr>\n",
       "    <tr>\n",
       "      <th>3</th>\n",
       "      <td>US</td>\n",
       "      <td>96</td>\n",
       "      <td>65.0</td>\n",
       "      <td>Oregon</td>\n",
       "      <td>Willamette Valley</td>\n",
       "      <td>Pinot Noir</td>\n",
       "    </tr>\n",
       "    <tr>\n",
       "      <th>4</th>\n",
       "      <td>France</td>\n",
       "      <td>95</td>\n",
       "      <td>66.0</td>\n",
       "      <td>Provence</td>\n",
       "      <td>Bandol</td>\n",
       "      <td>Provence red blend</td>\n",
       "    </tr>\n",
       "  </tbody>\n",
       "</table>\n",
       "</div>"
      ],
      "text/plain": [
       "  country  points  price        province           region_1  \\\n",
       "0      US      96  235.0      California        Napa Valley   \n",
       "1   Spain      96  110.0  Northern Spain               Toro   \n",
       "2      US      96   90.0      California     Knights Valley   \n",
       "3      US      96   65.0          Oregon  Willamette Valley   \n",
       "4  France      95   66.0        Provence             Bandol   \n",
       "\n",
       "              variety  \n",
       "0  Cabernet Sauvignon  \n",
       "1       Tinta de Toro  \n",
       "2     Sauvignon Blanc  \n",
       "3          Pinot Noir  \n",
       "4  Provence red blend  "
      ]
     },
     "execution_count": 26,
     "metadata": {},
     "output_type": "execute_result"
    }
   ],
   "source": [
    "clean_df_mini.head() #check what remains in the data"
   ]
  },
  {
   "cell_type": "code",
   "execution_count": 27,
   "id": "cd0d767a-71c4-4ab7-a953-b612a8dd6f21",
   "metadata": {},
   "outputs": [],
   "source": [
    "def clean_data_points(data):\n",
    "    y = data['points']\n",
    "    \n",
    "    #Drop price column for the future X \n",
    "    data = data.drop(['points'], axis=1)\n",
    "        \n",
    "    # Dummy the categorical variables\n",
    "    cat_vars = data.select_dtypes(include=['object']).copy().columns\n",
    "    for var in cat_vars:\n",
    "        # for each cat add dummy var, drop original column\n",
    "        data = pd.concat([data.drop(var, axis=1), pd.get_dummies(data[var], prefix=var, prefix_sep='_', drop_first=True, dummy_na=True)], axis=1)\n",
    "    \n",
    "    X = data\n",
    "    return X, y\n",
    "    \n",
    "#Use the function to create X and y\n",
    "X, y = clean_data_points(clean_df_mini)  "
   ]
  },
  {
   "cell_type": "markdown",
   "id": "c702cd7b-30a6-4dba-92cf-0f3e9129beef",
   "metadata": {},
   "source": [
    "I tried Linear Regression, AdaBoost, Random Forest with AdaBoost and Random Forest alone, below is the best model of the lot."
   ]
  },
  {
   "cell_type": "code",
   "execution_count": 28,
   "id": "e6ee8ecc-5bce-4efc-b606-3bdd3484d4a2",
   "metadata": {},
   "outputs": [],
   "source": [
    "def rf_model(test_size, n_est):\n",
    "\n",
    "    X_train, X_test, y_train, y_test = train_test_split(X, y, test_size=test_size, random_state=42)\n",
    "\n",
    "    from sklearn.ensemble import RandomForestRegressor\n",
    "    regressor = RandomForestRegressor(n_estimators = n_est, random_state = 42)\n",
    "    regressor.fit(X_train, y_train)\n",
    "\n",
    "    y_test_preds_rf = regressor.predict(X_test)\n",
    "    y_train_preds_rf = regressor.predict(X_train)\n",
    "\n",
    "    test_score_rf = r2_score(y_test, y_test_preds_rf)\n",
    "    train_score_rf = r2_score(y_train, y_train_preds_rf)\n",
    "    \n",
    "    return test_score_rf, train_score_rf, regressor\n",
    "  "
   ]
  },
  {
   "cell_type": "code",
   "execution_count": 29,
   "id": "75b26cdc-df5a-41ee-be0b-483e194610bf",
   "metadata": {},
   "outputs": [],
   "source": [
    "test_score_rf, train_score_rf, regressor = rf_model(0.1, 150)"
   ]
  },
  {
   "cell_type": "code",
   "execution_count": 30,
   "id": "9a8d510d-ba7c-4b0d-9b01-064b99f92864",
   "metadata": {},
   "outputs": [
    {
     "name": "stdout",
     "output_type": "stream",
     "text": [
      "train score: 0.645\n",
      "test score: 0.406\n"
     ]
    }
   ],
   "source": [
    "print('train score: {0:.3g}'.format(train_score_rf))\n",
    "print('test score: {0:.3g}'.format(test_score_rf))"
   ]
  },
  {
   "cell_type": "markdown",
   "id": "e0455bc6-ba75-4445-bc64-ca99e2609e4c",
   "metadata": {},
   "source": [
    "The train and especially test scores aren't great, although it's the best result I achieved in comparison with other models. I would like to check if the features are important for quality. I will try LabelEncoder instead of get_dummies, this also should improve the speed of RF. Then I can also bring winery back to see if it helps. Label-encoded columns will not require as much compute for RF, as one-hot encoded."
   ]
  },
  {
   "cell_type": "code",
   "execution_count": 31,
   "id": "873e20c4-3dad-4285-bc96-47b20c8c3b06",
   "metadata": {},
   "outputs": [
    {
     "data": {
      "text/html": [
       "<div>\n",
       "<style scoped>\n",
       "    .dataframe tbody tr th:only-of-type {\n",
       "        vertical-align: middle;\n",
       "    }\n",
       "\n",
       "    .dataframe tbody tr th {\n",
       "        vertical-align: top;\n",
       "    }\n",
       "\n",
       "    .dataframe thead th {\n",
       "        text-align: right;\n",
       "    }\n",
       "</style>\n",
       "<table border=\"1\" class=\"dataframe\">\n",
       "  <thead>\n",
       "    <tr style=\"text-align: right;\">\n",
       "      <th></th>\n",
       "      <th>country</th>\n",
       "      <th>points</th>\n",
       "      <th>price</th>\n",
       "      <th>province</th>\n",
       "      <th>region_1</th>\n",
       "      <th>variety</th>\n",
       "      <th>winery</th>\n",
       "    </tr>\n",
       "  </thead>\n",
       "  <tbody>\n",
       "    <tr>\n",
       "      <th>0</th>\n",
       "      <td>US</td>\n",
       "      <td>96</td>\n",
       "      <td>235.0</td>\n",
       "      <td>California</td>\n",
       "      <td>Napa Valley</td>\n",
       "      <td>Cabernet Sauvignon</td>\n",
       "      <td>Heitz</td>\n",
       "    </tr>\n",
       "    <tr>\n",
       "      <th>1</th>\n",
       "      <td>Spain</td>\n",
       "      <td>96</td>\n",
       "      <td>110.0</td>\n",
       "      <td>Northern Spain</td>\n",
       "      <td>Toro</td>\n",
       "      <td>Tinta de Toro</td>\n",
       "      <td>Bodega Carmen Rodríguez</td>\n",
       "    </tr>\n",
       "    <tr>\n",
       "      <th>2</th>\n",
       "      <td>US</td>\n",
       "      <td>96</td>\n",
       "      <td>90.0</td>\n",
       "      <td>California</td>\n",
       "      <td>Knights Valley</td>\n",
       "      <td>Sauvignon Blanc</td>\n",
       "      <td>Macauley</td>\n",
       "    </tr>\n",
       "    <tr>\n",
       "      <th>3</th>\n",
       "      <td>US</td>\n",
       "      <td>96</td>\n",
       "      <td>65.0</td>\n",
       "      <td>Oregon</td>\n",
       "      <td>Willamette Valley</td>\n",
       "      <td>Pinot Noir</td>\n",
       "      <td>Ponzi</td>\n",
       "    </tr>\n",
       "    <tr>\n",
       "      <th>4</th>\n",
       "      <td>France</td>\n",
       "      <td>95</td>\n",
       "      <td>66.0</td>\n",
       "      <td>Provence</td>\n",
       "      <td>Bandol</td>\n",
       "      <td>Provence red blend</td>\n",
       "      <td>Domaine de la Bégude</td>\n",
       "    </tr>\n",
       "  </tbody>\n",
       "</table>\n",
       "</div>"
      ],
      "text/plain": [
       "  country  points  price        province           region_1  \\\n",
       "0      US      96  235.0      California        Napa Valley   \n",
       "1   Spain      96  110.0  Northern Spain               Toro   \n",
       "2      US      96   90.0      California     Knights Valley   \n",
       "3      US      96   65.0          Oregon  Willamette Valley   \n",
       "4  France      95   66.0        Provence             Bandol   \n",
       "\n",
       "              variety                   winery  \n",
       "0  Cabernet Sauvignon                    Heitz  \n",
       "1       Tinta de Toro  Bodega Carmen Rodríguez  \n",
       "2     Sauvignon Blanc                 Macauley  \n",
       "3          Pinot Noir                    Ponzi  \n",
       "4  Provence red blend     Domaine de la Bégude  "
      ]
     },
     "execution_count": 31,
     "metadata": {},
     "output_type": "execute_result"
    }
   ],
   "source": [
    "clean_df.head()"
   ]
  },
  {
   "cell_type": "code",
   "execution_count": 32,
   "id": "861cf327-36e0-4516-8e97-04f095221aa1",
   "metadata": {},
   "outputs": [],
   "source": [
    "def create_labels(data):\n",
    "    from sklearn.preprocessing import LabelEncoder\n",
    "    labels = LabelEncoder()\n",
    "    y = data['points']\n",
    "    data = data.drop(['points'], axis=1)\n",
    "    cat_vars = data.select_dtypes(include=['object']).copy().columns\n",
    "    for var in cat_vars:\n",
    "        data[var] = labels.fit_transform(data[var].astype(str))\n",
    "    X = data\n",
    "    return X, y"
   ]
  },
  {
   "cell_type": "code",
   "execution_count": 33,
   "id": "c00d0c83-257d-4f09-a25c-d49ceee98d70",
   "metadata": {},
   "outputs": [],
   "source": [
    "X,y = create_labels(clean_df)"
   ]
  },
  {
   "cell_type": "code",
   "execution_count": 34,
   "id": "25056005-01f9-4151-9173-a5cdaf7866fc",
   "metadata": {},
   "outputs": [
    {
     "name": "stdout",
     "output_type": "stream",
     "text": [
      "train score: 0.852\n",
      "test score: 0.434\n"
     ]
    }
   ],
   "source": [
    "test_score_rf, train_score_rf, regressor = rf_model(0.1, 150)\n",
    "print('train score: {0:.3g}'.format(train_score_rf))\n",
    "print('test score: {0:.3g}'.format(test_score_rf))"
   ]
  },
  {
   "cell_type": "code",
   "execution_count": 37,
   "id": "f62e6f1b-9755-45cf-8c65-edc0ce7f9bfe",
   "metadata": {},
   "outputs": [
    {
     "name": "stdout",
     "output_type": "stream",
     "text": [
      "price       0.467927\n",
      "winery      0.267073\n",
      "region_1    0.111738\n",
      "variety     0.096367\n",
      "province    0.041278\n",
      "country     0.015617\n",
      "dtype: float64\n"
     ]
    }
   ],
   "source": [
    "important_features = pd.Series(data=regressor.feature_importances_,index=X.columns)\n",
    "important_features.sort_values(ascending=False,inplace=True)\n",
    "print(important_features)"
   ]
  },
  {
   "cell_type": "code",
   "execution_count": 38,
   "id": "3e6c3e6e-d63f-4d18-8c4b-350bf1833da9",
   "metadata": {},
   "outputs": [
    {
     "data": {
      "image/png": "[encoded data removed]",
      "text/plain": [
       "<Figure size 432x288 with 1 Axes>"
      ]
     },
     "metadata": {
      "needs_background": "light"
     },
     "output_type": "display_data"
    }
   ],
   "source": [
    "plt.plot(important_features.index, important_features)\n",
    "plt.show()"
   ]
  },
  {
   "cell_type": "markdown",
   "id": "b77c73b2-4ad5-4c02-83d3-2cfac7c960a3",
   "metadata": {},
   "source": [
    "Winery is rather important, so it's good we brought it back.  Let's drop province and country as least important and see if it works any better with LabelEncoder."
   ]
  },
  {
   "cell_type": "code",
   "execution_count": 39,
   "id": "db42b976-0916-4188-bbe5-4e5ee7276b39",
   "metadata": {},
   "outputs": [
    {
     "name": "stdout",
     "output_type": "stream",
     "text": [
      "train score: 0.85\n",
      "test score: 0.428\n"
     ]
    }
   ],
   "source": [
    "X = X.drop(['country', 'province'], axis=1) \n",
    "test_score_rf, train_score_rf, regressor = rf_model(0.1, 150)\n",
    "print('train score: {0:.3g}'.format(train_score_rf))\n",
    "print('test score: {0:.3g}'.format(test_score_rf))"
   ]
  },
  {
   "cell_type": "markdown",
   "id": "acbbc1e1-ac77-43b6-b541-abfb4d3b248e",
   "metadata": {},
   "source": [
    "This is actually worse. Will try GridSearch before giving up. The model probably needs more significant features to run successfully."
   ]
  },
  {
   "cell_type": "code",
   "execution_count": 40,
   "id": "f945ceac-ec10-4676-81f9-166a81dcbb5c",
   "metadata": {},
   "outputs": [],
   "source": [
    "X,y = create_labels(clean_df)"
   ]
  },
  {
   "cell_type": "code",
   "execution_count": 41,
   "id": "eb9cb00f-cbbe-49c2-8b8e-6e49be213bfb",
   "metadata": {
    "collapsed": true,
    "jupyter": {
     "outputs_hidden": true
    },
    "tags": []
   },
   "outputs": [
    {
     "name": "stdout",
     "output_type": "stream",
     "text": [
      "Fitting 3 folds for each of 100 candidates, totalling 300 fits\n",
      "[CV] END bootstrap=True, max_depth=16, min_samples_leaf=1, min_samples_split=2, n_estimators=100; total time=  13.9s\n",
      "[CV] END bootstrap=True, max_depth=16, min_samples_leaf=1, min_samples_split=2, n_estimators=100; total time=  13.7s\n",
      "[CV] END bootstrap=True, max_depth=16, min_samples_leaf=1, min_samples_split=2, n_estimators=100; total time=  13.5s\n",
      "[CV] END bootstrap=False, max_depth=16, min_samples_leaf=1, min_samples_split=10, n_estimators=100; total time=  18.5s\n",
      "[CV] END bootstrap=False, max_depth=16, min_samples_leaf=1, min_samples_split=10, n_estimators=100; total time=  18.7s\n",
      "[CV] END bootstrap=False, max_depth=16, min_samples_leaf=1, min_samples_split=10, n_estimators=100; total time=  18.6s\n",
      "[CV] END bootstrap=True, max_depth=10, min_samples_leaf=4, min_samples_split=5, n_estimators=15; total time=   1.4s\n",
      "[CV] END bootstrap=True, max_depth=10, min_samples_leaf=4, min_samples_split=5, n_estimators=15; total time=   1.4s\n",
      "[CV] END bootstrap=True, max_depth=10, min_samples_leaf=4, min_samples_split=5, n_estimators=15; total time=   1.4s\n",
      "[CV] END bootstrap=True, max_depth=16, min_samples_leaf=2, min_samples_split=10, n_estimators=15; total time=   1.9s\n",
      "[CV] END bootstrap=True, max_depth=16, min_samples_leaf=2, min_samples_split=10, n_estimators=15; total time=   1.9s\n",
      "[CV] END bootstrap=True, max_depth=16, min_samples_leaf=2, min_samples_split=10, n_estimators=15; total time=   2.0s\n",
      "[CV] END bootstrap=False, max_depth=4, min_samples_leaf=2, min_samples_split=10, n_estimators=400; total time=  23.0s\n",
      "[CV] END bootstrap=False, max_depth=4, min_samples_leaf=2, min_samples_split=10, n_estimators=400; total time=  22.8s\n",
      "[CV] END bootstrap=False, max_depth=4, min_samples_leaf=2, min_samples_split=10, n_estimators=400; total time=  22.7s\n",
      "[CV] END bootstrap=False, max_depth=None, min_samples_leaf=4, min_samples_split=5, n_estimators=100; total time=  22.3s\n",
      "[CV] END bootstrap=False, max_depth=None, min_samples_leaf=4, min_samples_split=5, n_estimators=100; total time=  22.5s\n",
      "[CV] END bootstrap=False, max_depth=None, min_samples_leaf=4, min_samples_split=5, n_estimators=100; total time=  22.1s\n",
      "[CV] END bootstrap=True, max_depth=10, min_samples_leaf=2, min_samples_split=5, n_estimators=4; total time=   0.4s\n",
      "[CV] END bootstrap=True, max_depth=10, min_samples_leaf=2, min_samples_split=5, n_estimators=4; total time=   0.4s\n",
      "[CV] END bootstrap=True, max_depth=10, min_samples_leaf=2, min_samples_split=5, n_estimators=4; total time=   0.4s\n",
      "[CV] END bootstrap=False, max_depth=10, min_samples_leaf=2, min_samples_split=2, n_estimators=15; total time=   2.0s\n",
      "[CV] END bootstrap=False, max_depth=10, min_samples_leaf=2, min_samples_split=2, n_estimators=15; total time=   2.0s\n",
      "[CV] END bootstrap=False, max_depth=10, min_samples_leaf=2, min_samples_split=2, n_estimators=15; total time=   2.0s\n",
      "[CV] END bootstrap=True, max_depth=16, min_samples_leaf=4, min_samples_split=10, n_estimators=100; total time=  12.6s\n",
      "[CV] END bootstrap=True, max_depth=16, min_samples_leaf=4, min_samples_split=10, n_estimators=100; total time=  12.9s\n",
      "[CV] END bootstrap=True, max_depth=16, min_samples_leaf=4, min_samples_split=10, n_estimators=100; total time=  12.7s\n",
      "[CV] END bootstrap=False, max_depth=10, min_samples_leaf=1, min_samples_split=2, n_estimators=15; total time=   2.0s\n",
      "[CV] END bootstrap=False, max_depth=10, min_samples_leaf=1, min_samples_split=2, n_estimators=15; total time=   2.0s\n",
      "[CV] END bootstrap=False, max_depth=10, min_samples_leaf=1, min_samples_split=2, n_estimators=15; total time=   1.9s\n",
      "[CV] END bootstrap=True, max_depth=2, min_samples_leaf=4, min_samples_split=5, n_estimators=50; total time=   1.2s\n",
      "[CV] END bootstrap=True, max_depth=2, min_samples_leaf=4, min_samples_split=5, n_estimators=50; total time=   1.2s\n",
      "[CV] END bootstrap=True, max_depth=2, min_samples_leaf=4, min_samples_split=5, n_estimators=50; total time=   1.2s\n",
      "[CV] END bootstrap=True, max_depth=10, min_samples_leaf=4, min_samples_split=5, n_estimators=200; total time=  18.0s\n",
      "[CV] END bootstrap=True, max_depth=10, min_samples_leaf=4, min_samples_split=5, n_estimators=200; total time=  18.0s\n",
      "[CV] END bootstrap=True, max_depth=10, min_samples_leaf=4, min_samples_split=5, n_estimators=200; total time=  18.0s\n",
      "[CV] END bootstrap=False, max_depth=2, min_samples_leaf=2, min_samples_split=2, n_estimators=600; total time=  18.0s\n",
      "[CV] END bootstrap=False, max_depth=2, min_samples_leaf=2, min_samples_split=2, n_estimators=600; total time=  17.8s\n",
      "[CV] END bootstrap=False, max_depth=2, min_samples_leaf=2, min_samples_split=2, n_estimators=600; total time=  18.0s\n",
      "[CV] END bootstrap=False, max_depth=None, min_samples_leaf=4, min_samples_split=10, n_estimators=150; total time=  33.1s\n",
      "[CV] END bootstrap=False, max_depth=None, min_samples_leaf=4, min_samples_split=10, n_estimators=150; total time=  33.8s\n",
      "[CV] END bootstrap=False, max_depth=None, min_samples_leaf=4, min_samples_split=10, n_estimators=150; total time=  33.0s\n",
      "[CV] END bootstrap=True, max_depth=16, min_samples_leaf=1, min_samples_split=5, n_estimators=400; total time=  52.7s\n",
      "[CV] END bootstrap=True, max_depth=16, min_samples_leaf=1, min_samples_split=5, n_estimators=400; total time=  52.7s\n",
      "[CV] END bootstrap=True, max_depth=16, min_samples_leaf=1, min_samples_split=5, n_estimators=400; total time=  53.2s\n",
      "[CV] END bootstrap=False, max_depth=2, min_samples_leaf=1, min_samples_split=10, n_estimators=50; total time=   1.5s\n",
      "[CV] END bootstrap=False, max_depth=2, min_samples_leaf=1, min_samples_split=10, n_estimators=50; total time=   1.5s\n",
      "[CV] END bootstrap=False, max_depth=2, min_samples_leaf=1, min_samples_split=10, n_estimators=50; total time=   1.5s\n",
      "[CV] END bootstrap=True, max_depth=16, min_samples_leaf=4, min_samples_split=5, n_estimators=600; total time= 1.3min\n",
      "[CV] END bootstrap=True, max_depth=16, min_samples_leaf=4, min_samples_split=5, n_estimators=600; total time= 1.3min\n",
      "[CV] END bootstrap=True, max_depth=16, min_samples_leaf=4, min_samples_split=5, n_estimators=600; total time= 1.3min\n",
      "[CV] END bootstrap=True, max_depth=4, min_samples_leaf=2, min_samples_split=2, n_estimators=10; total time=   0.5s\n",
      "[CV] END bootstrap=True, max_depth=4, min_samples_leaf=2, min_samples_split=2, n_estimators=10; total time=   0.5s\n",
      "[CV] END bootstrap=True, max_depth=4, min_samples_leaf=2, min_samples_split=2, n_estimators=10; total time=   0.5s\n",
      "[CV] END bootstrap=True, max_depth=None, min_samples_leaf=4, min_samples_split=2, n_estimators=150; total time=  22.2s\n",
      "[CV] END bootstrap=True, max_depth=None, min_samples_leaf=4, min_samples_split=2, n_estimators=150; total time=  22.4s\n",
      "[CV] END bootstrap=True, max_depth=None, min_samples_leaf=4, min_samples_split=2, n_estimators=150; total time=  22.3s\n",
      "[CV] END bootstrap=False, max_depth=4, min_samples_leaf=2, min_samples_split=10, n_estimators=4; total time=   0.2s\n",
      "[CV] END bootstrap=False, max_depth=4, min_samples_leaf=2, min_samples_split=10, n_estimators=4; total time=   0.3s\n",
      "[CV] END bootstrap=False, max_depth=4, min_samples_leaf=2, min_samples_split=10, n_estimators=4; total time=   0.3s\n",
      "[CV] END bootstrap=True, max_depth=4, min_samples_leaf=4, min_samples_split=2, n_estimators=100; total time=   4.2s\n",
      "[CV] END bootstrap=True, max_depth=4, min_samples_leaf=4, min_samples_split=2, n_estimators=100; total time=   4.2s\n",
      "[CV] END bootstrap=True, max_depth=4, min_samples_leaf=4, min_samples_split=2, n_estimators=100; total time=   4.2s\n",
      "[CV] END bootstrap=True, max_depth=2, min_samples_leaf=4, min_samples_split=5, n_estimators=100; total time=   2.3s\n",
      "[CV] END bootstrap=True, max_depth=2, min_samples_leaf=4, min_samples_split=5, n_estimators=100; total time=   2.3s\n",
      "[CV] END bootstrap=True, max_depth=2, min_samples_leaf=4, min_samples_split=5, n_estimators=100; total time=   2.3s\n",
      "[CV] END bootstrap=True, max_depth=None, min_samples_leaf=2, min_samples_split=2, n_estimators=10; total time=   1.7s\n",
      "[CV] END bootstrap=True, max_depth=None, min_samples_leaf=2, min_samples_split=2, n_estimators=10; total time=   1.7s\n",
      "[CV] END bootstrap=True, max_depth=None, min_samples_leaf=2, min_samples_split=2, n_estimators=10; total time=   1.7s\n",
      "[CV] END bootstrap=True, max_depth=None, min_samples_leaf=2, min_samples_split=2, n_estimators=150; total time=  24.8s\n",
      "[CV] END bootstrap=True, max_depth=None, min_samples_leaf=2, min_samples_split=2, n_estimators=150; total time=  25.4s\n",
      "[CV] END bootstrap=True, max_depth=None, min_samples_leaf=2, min_samples_split=2, n_estimators=150; total time=  25.0s\n",
      "[CV] END bootstrap=True, max_depth=2, min_samples_leaf=2, min_samples_split=5, n_estimators=50; total time=   1.2s\n",
      "[CV] END bootstrap=True, max_depth=2, min_samples_leaf=2, min_samples_split=5, n_estimators=50; total time=   1.2s\n",
      "[CV] END bootstrap=True, max_depth=2, min_samples_leaf=2, min_samples_split=5, n_estimators=50; total time=   1.2s\n",
      "[CV] END bootstrap=True, max_depth=2, min_samples_leaf=2, min_samples_split=2, n_estimators=50; total time=   1.2s\n",
      "[CV] END bootstrap=True, max_depth=2, min_samples_leaf=2, min_samples_split=2, n_estimators=50; total time=   1.2s\n",
      "[CV] END bootstrap=True, max_depth=2, min_samples_leaf=2, min_samples_split=2, n_estimators=50; total time=   1.2s\n",
      "[CV] END bootstrap=False, max_depth=16, min_samples_leaf=4, min_samples_split=10, n_estimators=600; total time= 1.8min\n",
      "[CV] END bootstrap=False, max_depth=16, min_samples_leaf=4, min_samples_split=10, n_estimators=600; total time= 2.0min\n",
      "[CV] END bootstrap=False, max_depth=16, min_samples_leaf=4, min_samples_split=10, n_estimators=600; total time= 1.9min\n",
      "[CV] END bootstrap=True, max_depth=10, min_samples_leaf=2, min_samples_split=10, n_estimators=10; total time=   1.0s\n",
      "[CV] END bootstrap=True, max_depth=10, min_samples_leaf=2, min_samples_split=10, n_estimators=10; total time=   1.0s\n",
      "[CV] END bootstrap=True, max_depth=10, min_samples_leaf=2, min_samples_split=10, n_estimators=10; total time=   1.0s\n",
      "[CV] END bootstrap=True, max_depth=10, min_samples_leaf=2, min_samples_split=10, n_estimators=15; total time=   1.4s\n",
      "[CV] END bootstrap=True, max_depth=10, min_samples_leaf=2, min_samples_split=10, n_estimators=15; total time=   1.5s\n",
      "[CV] END bootstrap=True, max_depth=10, min_samples_leaf=2, min_samples_split=10, n_estimators=15; total time=   1.5s\n",
      "[CV] END bootstrap=True, max_depth=2, min_samples_leaf=4, min_samples_split=10, n_estimators=200; total time=   4.8s\n",
      "[CV] END bootstrap=True, max_depth=2, min_samples_leaf=4, min_samples_split=10, n_estimators=200; total time=   4.8s\n",
      "[CV] END bootstrap=True, max_depth=2, min_samples_leaf=4, min_samples_split=10, n_estimators=200; total time=   4.8s\n",
      "[CV] END bootstrap=False, max_depth=16, min_samples_leaf=1, min_samples_split=5, n_estimators=4; total time=   0.8s\n",
      "[CV] END bootstrap=False, max_depth=16, min_samples_leaf=1, min_samples_split=5, n_estimators=4; total time=   0.8s\n",
      "[CV] END bootstrap=False, max_depth=16, min_samples_leaf=1, min_samples_split=5, n_estimators=4; total time=   0.8s\n",
      "[CV] END bootstrap=False, max_depth=16, min_samples_leaf=2, min_samples_split=2, n_estimators=150; total time=  29.8s\n",
      "[CV] END bootstrap=False, max_depth=16, min_samples_leaf=2, min_samples_split=2, n_estimators=150; total time=  29.8s\n",
      "[CV] END bootstrap=False, max_depth=16, min_samples_leaf=2, min_samples_split=2, n_estimators=150; total time=  29.6s\n",
      "[CV] END bootstrap=False, max_depth=16, min_samples_leaf=1, min_samples_split=10, n_estimators=150; total time=  29.1s\n",
      "[CV] END bootstrap=False, max_depth=16, min_samples_leaf=1, min_samples_split=10, n_estimators=150; total time=  29.4s\n",
      "[CV] END bootstrap=False, max_depth=16, min_samples_leaf=1, min_samples_split=10, n_estimators=150; total time=  29.1s\n",
      "[CV] END bootstrap=False, max_depth=16, min_samples_leaf=4, min_samples_split=10, n_estimators=100; total time=  19.9s\n",
      "[CV] END bootstrap=False, max_depth=16, min_samples_leaf=4, min_samples_split=10, n_estimators=100; total time=  21.2s\n",
      "[CV] END bootstrap=False, max_depth=16, min_samples_leaf=4, min_samples_split=10, n_estimators=100; total time=  20.3s\n",
      "[CV] END bootstrap=False, max_depth=16, min_samples_leaf=4, min_samples_split=2, n_estimators=15; total time=   3.1s\n",
      "[CV] END bootstrap=False, max_depth=16, min_samples_leaf=4, min_samples_split=2, n_estimators=15; total time=   3.1s\n",
      "[CV] END bootstrap=False, max_depth=16, min_samples_leaf=4, min_samples_split=2, n_estimators=15; total time=   3.0s\n",
      "[CV] END bootstrap=True, max_depth=2, min_samples_leaf=1, min_samples_split=10, n_estimators=150; total time=   3.7s\n",
      "[CV] END bootstrap=True, max_depth=2, min_samples_leaf=1, min_samples_split=10, n_estimators=150; total time=   3.7s\n",
      "[CV] END bootstrap=True, max_depth=2, min_samples_leaf=1, min_samples_split=10, n_estimators=150; total time=   3.8s\n",
      "[CV] END bootstrap=True, max_depth=None, min_samples_leaf=2, min_samples_split=2, n_estimators=4; total time=   0.8s\n",
      "[CV] END bootstrap=True, max_depth=None, min_samples_leaf=2, min_samples_split=2, n_estimators=4; total time=   0.8s\n",
      "[CV] END bootstrap=True, max_depth=None, min_samples_leaf=2, min_samples_split=2, n_estimators=4; total time=   0.8s\n",
      "[CV] END bootstrap=True, max_depth=None, min_samples_leaf=4, min_samples_split=10, n_estimators=4; total time=   0.7s\n",
      "[CV] END bootstrap=True, max_depth=None, min_samples_leaf=4, min_samples_split=10, n_estimators=4; total time=   0.7s\n",
      "[CV] END bootstrap=True, max_depth=None, min_samples_leaf=4, min_samples_split=10, n_estimators=4; total time=   0.7s\n",
      "[CV] END bootstrap=True, max_depth=2, min_samples_leaf=4, min_samples_split=5, n_estimators=4; total time=   0.1s\n",
      "[CV] END bootstrap=True, max_depth=2, min_samples_leaf=4, min_samples_split=5, n_estimators=4; total time=   0.1s\n",
      "[CV] END bootstrap=True, max_depth=2, min_samples_leaf=4, min_samples_split=5, n_estimators=4; total time=   0.1s\n",
      "[CV] END bootstrap=True, max_depth=10, min_samples_leaf=2, min_samples_split=2, n_estimators=50; total time=   5.0s\n",
      "[CV] END bootstrap=True, max_depth=10, min_samples_leaf=2, min_samples_split=2, n_estimators=50; total time=   4.8s\n",
      "[CV] END bootstrap=True, max_depth=10, min_samples_leaf=2, min_samples_split=2, n_estimators=50; total time=   5.3s\n",
      "[CV] END bootstrap=True, max_depth=2, min_samples_leaf=4, min_samples_split=5, n_estimators=15; total time=   0.4s\n",
      "[CV] END bootstrap=True, max_depth=2, min_samples_leaf=4, min_samples_split=5, n_estimators=15; total time=   0.5s\n",
      "[CV] END bootstrap=True, max_depth=2, min_samples_leaf=4, min_samples_split=5, n_estimators=15; total time=   0.5s\n",
      "[CV] END bootstrap=False, max_depth=4, min_samples_leaf=2, min_samples_split=2, n_estimators=10; total time=   0.8s\n",
      "[CV] END bootstrap=False, max_depth=4, min_samples_leaf=2, min_samples_split=2, n_estimators=10; total time=   0.7s\n",
      "[CV] END bootstrap=False, max_depth=4, min_samples_leaf=2, min_samples_split=2, n_estimators=10; total time=   0.7s\n",
      "[CV] END bootstrap=True, max_depth=16, min_samples_leaf=2, min_samples_split=10, n_estimators=200; total time=  29.0s\n",
      "[CV] END bootstrap=True, max_depth=16, min_samples_leaf=2, min_samples_split=10, n_estimators=200; total time=  29.6s\n",
      "[CV] END bootstrap=True, max_depth=16, min_samples_leaf=2, min_samples_split=10, n_estimators=200; total time=  29.6s\n",
      "[CV] END bootstrap=True, max_depth=4, min_samples_leaf=4, min_samples_split=2, n_estimators=15; total time=   0.9s\n",
      "[CV] END bootstrap=True, max_depth=4, min_samples_leaf=4, min_samples_split=2, n_estimators=15; total time=   0.8s\n",
      "[CV] END bootstrap=True, max_depth=4, min_samples_leaf=4, min_samples_split=2, n_estimators=15; total time=   0.8s\n",
      "[CV] END bootstrap=False, max_depth=10, min_samples_leaf=4, min_samples_split=5, n_estimators=50; total time=   7.1s\n",
      "[CV] END bootstrap=False, max_depth=10, min_samples_leaf=4, min_samples_split=5, n_estimators=50; total time=   7.6s\n",
      "[CV] END bootstrap=False, max_depth=10, min_samples_leaf=4, min_samples_split=5, n_estimators=50; total time=   6.9s\n",
      "[CV] END bootstrap=True, max_depth=10, min_samples_leaf=2, min_samples_split=10, n_estimators=100; total time=   9.7s\n",
      "[CV] END bootstrap=True, max_depth=10, min_samples_leaf=2, min_samples_split=10, n_estimators=100; total time=   9.6s\n",
      "[CV] END bootstrap=True, max_depth=10, min_samples_leaf=2, min_samples_split=10, n_estimators=100; total time=   9.7s\n",
      "[CV] END bootstrap=False, max_depth=4, min_samples_leaf=2, min_samples_split=5, n_estimators=600; total time=  38.7s\n",
      "[CV] END bootstrap=False, max_depth=4, min_samples_leaf=2, min_samples_split=5, n_estimators=600; total time=  38.8s\n",
      "[CV] END bootstrap=False, max_depth=4, min_samples_leaf=2, min_samples_split=5, n_estimators=600; total time=  39.8s\n",
      "[CV] END bootstrap=False, max_depth=16, min_samples_leaf=2, min_samples_split=10, n_estimators=50; total time=  10.1s\n",
      "[CV] END bootstrap=False, max_depth=16, min_samples_leaf=2, min_samples_split=10, n_estimators=50; total time=  11.0s\n",
      "[CV] END bootstrap=False, max_depth=16, min_samples_leaf=2, min_samples_split=10, n_estimators=50; total time=  10.7s\n",
      "[CV] END bootstrap=False, max_depth=4, min_samples_leaf=4, min_samples_split=2, n_estimators=15; total time=   1.0s\n",
      "[CV] END bootstrap=False, max_depth=4, min_samples_leaf=4, min_samples_split=2, n_estimators=15; total time=   1.0s\n",
      "[CV] END bootstrap=False, max_depth=4, min_samples_leaf=4, min_samples_split=2, n_estimators=15; total time=   1.0s\n",
      "[CV] END bootstrap=False, max_depth=10, min_samples_leaf=1, min_samples_split=2, n_estimators=50; total time=   7.6s\n",
      "[CV] END bootstrap=False, max_depth=10, min_samples_leaf=1, min_samples_split=2, n_estimators=50; total time=   7.9s\n",
      "[CV] END bootstrap=False, max_depth=10, min_samples_leaf=1, min_samples_split=2, n_estimators=50; total time=   8.0s\n",
      "[CV] END bootstrap=True, max_depth=None, min_samples_leaf=1, min_samples_split=5, n_estimators=50; total time=  10.9s\n",
      "[CV] END bootstrap=True, max_depth=None, min_samples_leaf=1, min_samples_split=5, n_estimators=50; total time=  12.2s\n",
      "[CV] END bootstrap=True, max_depth=None, min_samples_leaf=1, min_samples_split=5, n_estimators=50; total time=  12.7s\n",
      "[CV] END bootstrap=False, max_depth=10, min_samples_leaf=4, min_samples_split=5, n_estimators=10; total time=   1.8s\n",
      "[CV] END bootstrap=False, max_depth=10, min_samples_leaf=4, min_samples_split=5, n_estimators=10; total time=   1.8s\n",
      "[CV] END bootstrap=False, max_depth=10, min_samples_leaf=4, min_samples_split=5, n_estimators=10; total time=   1.5s\n",
      "[CV] END bootstrap=False, max_depth=10, min_samples_leaf=1, min_samples_split=10, n_estimators=200; total time=  30.1s\n",
      "[CV] END bootstrap=False, max_depth=10, min_samples_leaf=1, min_samples_split=10, n_estimators=200; total time=  30.2s\n",
      "[CV] END bootstrap=False, max_depth=10, min_samples_leaf=1, min_samples_split=10, n_estimators=200; total time=  30.1s\n",
      "[CV] END bootstrap=False, max_depth=16, min_samples_leaf=1, min_samples_split=10, n_estimators=400; total time= 1.4min\n",
      "[CV] END bootstrap=False, max_depth=16, min_samples_leaf=1, min_samples_split=10, n_estimators=400; total time= 1.4min\n",
      "[CV] END bootstrap=False, max_depth=16, min_samples_leaf=1, min_samples_split=10, n_estimators=400; total time= 1.5min\n",
      "[CV] END bootstrap=True, max_depth=16, min_samples_leaf=4, min_samples_split=2, n_estimators=150; total time=  23.8s\n",
      "[CV] END bootstrap=True, max_depth=16, min_samples_leaf=4, min_samples_split=2, n_estimators=150; total time=  23.9s\n",
      "[CV] END bootstrap=True, max_depth=16, min_samples_leaf=4, min_samples_split=2, n_estimators=150; total time=  24.6s\n",
      "[CV] END bootstrap=False, max_depth=2, min_samples_leaf=1, min_samples_split=2, n_estimators=4; total time=   0.2s\n",
      "[CV] END bootstrap=False, max_depth=2, min_samples_leaf=1, min_samples_split=2, n_estimators=4; total time=   0.2s\n",
      "[CV] END bootstrap=False, max_depth=2, min_samples_leaf=1, min_samples_split=2, n_estimators=4; total time=   0.2s\n",
      "[CV] END bootstrap=False, max_depth=4, min_samples_leaf=4, min_samples_split=5, n_estimators=4; total time=   0.3s\n",
      "[CV] END bootstrap=False, max_depth=4, min_samples_leaf=4, min_samples_split=5, n_estimators=4; total time=   0.3s\n",
      "[CV] END bootstrap=False, max_depth=4, min_samples_leaf=4, min_samples_split=5, n_estimators=4; total time=   0.3s\n",
      "[CV] END bootstrap=True, max_depth=4, min_samples_leaf=1, min_samples_split=2, n_estimators=150; total time=   8.1s\n",
      "[CV] END bootstrap=True, max_depth=4, min_samples_leaf=1, min_samples_split=2, n_estimators=150; total time=   8.3s\n",
      "[CV] END bootstrap=True, max_depth=4, min_samples_leaf=1, min_samples_split=2, n_estimators=150; total time=   8.0s\n",
      "[CV] END bootstrap=False, max_depth=4, min_samples_leaf=1, min_samples_split=2, n_estimators=10; total time=   0.7s\n",
      "[CV] END bootstrap=False, max_depth=4, min_samples_leaf=1, min_samples_split=2, n_estimators=10; total time=   0.7s\n",
      "[CV] END bootstrap=False, max_depth=4, min_samples_leaf=1, min_samples_split=2, n_estimators=10; total time=   0.7s\n",
      "[CV] END bootstrap=False, max_depth=10, min_samples_leaf=1, min_samples_split=5, n_estimators=50; total time=   7.7s\n",
      "[CV] END bootstrap=False, max_depth=10, min_samples_leaf=1, min_samples_split=5, n_estimators=50; total time=   7.7s\n",
      "[CV] END bootstrap=False, max_depth=10, min_samples_leaf=1, min_samples_split=5, n_estimators=50; total time=   7.8s\n",
      "[CV] END bootstrap=True, max_depth=None, min_samples_leaf=1, min_samples_split=2, n_estimators=50; total time=  10.9s\n",
      "[CV] END bootstrap=True, max_depth=None, min_samples_leaf=1, min_samples_split=2, n_estimators=50; total time=  11.3s\n",
      "[CV] END bootstrap=True, max_depth=None, min_samples_leaf=1, min_samples_split=2, n_estimators=50; total time=  11.1s\n",
      "[CV] END bootstrap=False, max_depth=10, min_samples_leaf=2, min_samples_split=5, n_estimators=15; total time=   2.3s\n",
      "[CV] END bootstrap=False, max_depth=10, min_samples_leaf=2, min_samples_split=5, n_estimators=15; total time=   2.3s\n",
      "[CV] END bootstrap=False, max_depth=10, min_samples_leaf=2, min_samples_split=5, n_estimators=15; total time=   2.4s\n",
      "[CV] END bootstrap=True, max_depth=4, min_samples_leaf=2, min_samples_split=5, n_estimators=50; total time=   2.6s\n",
      "[CV] END bootstrap=True, max_depth=4, min_samples_leaf=2, min_samples_split=5, n_estimators=50; total time=   2.5s\n",
      "[CV] END bootstrap=True, max_depth=4, min_samples_leaf=2, min_samples_split=5, n_estimators=50; total time=   2.6s\n",
      "[CV] END bootstrap=True, max_depth=10, min_samples_leaf=1, min_samples_split=5, n_estimators=50; total time=   5.5s\n",
      "[CV] END bootstrap=True, max_depth=10, min_samples_leaf=1, min_samples_split=5, n_estimators=50; total time=   5.5s\n",
      "[CV] END bootstrap=True, max_depth=10, min_samples_leaf=1, min_samples_split=5, n_estimators=50; total time=   5.5s\n",
      "[CV] END bootstrap=False, max_depth=None, min_samples_leaf=1, min_samples_split=5, n_estimators=50; total time=  15.3s\n",
      "[CV] END bootstrap=False, max_depth=None, min_samples_leaf=1, min_samples_split=5, n_estimators=50; total time=  15.5s\n",
      "[CV] END bootstrap=False, max_depth=None, min_samples_leaf=1, min_samples_split=5, n_estimators=50; total time=  15.4s\n",
      "[CV] END bootstrap=True, max_depth=10, min_samples_leaf=1, min_samples_split=2, n_estimators=200; total time=  22.7s\n",
      "[CV] END bootstrap=True, max_depth=10, min_samples_leaf=1, min_samples_split=2, n_estimators=200; total time=  22.1s\n",
      "[CV] END bootstrap=True, max_depth=10, min_samples_leaf=1, min_samples_split=2, n_estimators=200; total time=  22.4s\n",
      "[CV] END bootstrap=True, max_depth=16, min_samples_leaf=2, min_samples_split=5, n_estimators=200; total time=  33.5s\n",
      "[CV] END bootstrap=True, max_depth=16, min_samples_leaf=2, min_samples_split=5, n_estimators=200; total time=  32.8s\n",
      "[CV] END bootstrap=True, max_depth=16, min_samples_leaf=2, min_samples_split=5, n_estimators=200; total time=  31.6s\n",
      "[CV] END bootstrap=True, max_depth=2, min_samples_leaf=2, min_samples_split=10, n_estimators=100; total time=   2.7s\n",
      "[CV] END bootstrap=True, max_depth=2, min_samples_leaf=2, min_samples_split=10, n_estimators=100; total time=   2.8s\n",
      "[CV] END bootstrap=True, max_depth=2, min_samples_leaf=2, min_samples_split=10, n_estimators=100; total time=   2.7s\n",
      "[CV] END bootstrap=True, max_depth=4, min_samples_leaf=1, min_samples_split=5, n_estimators=200; total time=  10.0s\n",
      "[CV] END bootstrap=True, max_depth=4, min_samples_leaf=1, min_samples_split=5, n_estimators=200; total time=  10.0s\n",
      "[CV] END bootstrap=True, max_depth=4, min_samples_leaf=1, min_samples_split=5, n_estimators=200; total time=  10.7s\n",
      "[CV] END bootstrap=True, max_depth=4, min_samples_leaf=4, min_samples_split=10, n_estimators=15; total time=   0.9s\n",
      "[CV] END bootstrap=True, max_depth=4, min_samples_leaf=4, min_samples_split=10, n_estimators=15; total time=   0.8s\n",
      "[CV] END bootstrap=True, max_depth=4, min_samples_leaf=4, min_samples_split=10, n_estimators=15; total time=   0.8s\n",
      "[CV] END bootstrap=False, max_depth=16, min_samples_leaf=1, min_samples_split=10, n_estimators=50; total time=  11.5s\n",
      "[CV] END bootstrap=False, max_depth=16, min_samples_leaf=1, min_samples_split=10, n_estimators=50; total time=  11.5s\n",
      "[CV] END bootstrap=False, max_depth=16, min_samples_leaf=1, min_samples_split=10, n_estimators=50; total time=  11.3s\n",
      "[CV] END bootstrap=False, max_depth=4, min_samples_leaf=1, min_samples_split=2, n_estimators=600; total time=  40.6s\n",
      "[CV] END bootstrap=False, max_depth=4, min_samples_leaf=1, min_samples_split=2, n_estimators=600; total time=  40.9s\n",
      "[CV] END bootstrap=False, max_depth=4, min_samples_leaf=1, min_samples_split=2, n_estimators=600; total time=  40.2s\n",
      "[CV] END bootstrap=False, max_depth=10, min_samples_leaf=2, min_samples_split=2, n_estimators=4; total time=   0.6s\n",
      "[CV] END bootstrap=False, max_depth=10, min_samples_leaf=2, min_samples_split=2, n_estimators=4; total time=   0.6s\n",
      "[CV] END bootstrap=False, max_depth=10, min_samples_leaf=2, min_samples_split=2, n_estimators=4; total time=   0.7s\n",
      "[CV] END bootstrap=False, max_depth=None, min_samples_leaf=4, min_samples_split=10, n_estimators=100; total time=  25.5s\n",
      "[CV] END bootstrap=False, max_depth=None, min_samples_leaf=4, min_samples_split=10, n_estimators=100; total time=  25.7s\n",
      "[CV] END bootstrap=False, max_depth=None, min_samples_leaf=4, min_samples_split=10, n_estimators=100; total time=  25.2s\n",
      "[CV] END bootstrap=True, max_depth=2, min_samples_leaf=2, min_samples_split=2, n_estimators=200; total time=   5.3s\n",
      "[CV] END bootstrap=True, max_depth=2, min_samples_leaf=2, min_samples_split=2, n_estimators=200; total time=   5.3s\n",
      "[CV] END bootstrap=True, max_depth=2, min_samples_leaf=2, min_samples_split=2, n_estimators=200; total time=   5.4s\n",
      "[CV] END bootstrap=True, max_depth=2, min_samples_leaf=2, min_samples_split=2, n_estimators=100; total time=   2.7s\n",
      "[CV] END bootstrap=True, max_depth=2, min_samples_leaf=2, min_samples_split=2, n_estimators=100; total time=   2.7s\n",
      "[CV] END bootstrap=True, max_depth=2, min_samples_leaf=2, min_samples_split=2, n_estimators=100; total time=   2.7s\n",
      "[CV] END bootstrap=False, max_depth=10, min_samples_leaf=2, min_samples_split=2, n_estimators=100; total time=  15.1s\n",
      "[CV] END bootstrap=False, max_depth=10, min_samples_leaf=2, min_samples_split=2, n_estimators=100; total time=  14.4s\n",
      "[CV] END bootstrap=False, max_depth=10, min_samples_leaf=2, min_samples_split=2, n_estimators=100; total time=  14.1s\n",
      "[CV] END bootstrap=True, max_depth=16, min_samples_leaf=2, min_samples_split=2, n_estimators=150; total time=  21.8s\n",
      "[CV] END bootstrap=True, max_depth=16, min_samples_leaf=2, min_samples_split=2, n_estimators=150; total time=  22.0s\n",
      "[CV] END bootstrap=True, max_depth=16, min_samples_leaf=2, min_samples_split=2, n_estimators=150; total time=  21.4s\n",
      "[CV] END bootstrap=True, max_depth=None, min_samples_leaf=1, min_samples_split=2, n_estimators=150; total time=  29.2s\n",
      "[CV] END bootstrap=True, max_depth=None, min_samples_leaf=1, min_samples_split=2, n_estimators=150; total time=  29.3s\n",
      "[CV] END bootstrap=True, max_depth=None, min_samples_leaf=1, min_samples_split=2, n_estimators=150; total time=  29.4s\n",
      "[CV] END bootstrap=True, max_depth=None, min_samples_leaf=4, min_samples_split=2, n_estimators=50; total time=   7.8s\n",
      "[CV] END bootstrap=True, max_depth=None, min_samples_leaf=4, min_samples_split=2, n_estimators=50; total time=   7.8s\n",
      "[CV] END bootstrap=True, max_depth=None, min_samples_leaf=4, min_samples_split=2, n_estimators=50; total time=   7.8s\n",
      "[CV] END bootstrap=True, max_depth=10, min_samples_leaf=2, min_samples_split=10, n_estimators=50; total time=   4.7s\n",
      "[CV] END bootstrap=True, max_depth=10, min_samples_leaf=2, min_samples_split=10, n_estimators=50; total time=   4.7s\n",
      "[CV] END bootstrap=True, max_depth=10, min_samples_leaf=2, min_samples_split=10, n_estimators=50; total time=   4.7s\n",
      "[CV] END bootstrap=False, max_depth=2, min_samples_leaf=2, min_samples_split=2, n_estimators=4; total time=   0.1s\n",
      "[CV] END bootstrap=False, max_depth=2, min_samples_leaf=2, min_samples_split=2, n_estimators=4; total time=   0.1s\n",
      "[CV] END bootstrap=False, max_depth=2, min_samples_leaf=2, min_samples_split=2, n_estimators=4; total time=   0.1s\n",
      "[CV] END bootstrap=False, max_depth=2, min_samples_leaf=4, min_samples_split=2, n_estimators=200; total time=   6.3s\n",
      "[CV] END bootstrap=False, max_depth=2, min_samples_leaf=4, min_samples_split=2, n_estimators=200; total time=   6.3s\n",
      "[CV] END bootstrap=False, max_depth=2, min_samples_leaf=4, min_samples_split=2, n_estimators=200; total time=   6.3s\n",
      "[CV] END bootstrap=True, max_depth=2, min_samples_leaf=4, min_samples_split=10, n_estimators=4; total time=   0.1s\n",
      "[CV] END bootstrap=True, max_depth=2, min_samples_leaf=4, min_samples_split=10, n_estimators=4; total time=   0.1s\n",
      "[CV] END bootstrap=True, max_depth=2, min_samples_leaf=4, min_samples_split=10, n_estimators=4; total time=   0.1s\n",
      "[CV] END bootstrap=True, max_depth=2, min_samples_leaf=4, min_samples_split=10, n_estimators=150; total time=   3.6s\n",
      "[CV] END bootstrap=True, max_depth=2, min_samples_leaf=4, min_samples_split=10, n_estimators=150; total time=   3.6s\n",
      "[CV] END bootstrap=True, max_depth=2, min_samples_leaf=4, min_samples_split=10, n_estimators=150; total time=   3.6s\n",
      "[CV] END bootstrap=False, max_depth=4, min_samples_leaf=1, min_samples_split=2, n_estimators=400; total time=  23.7s\n",
      "[CV] END bootstrap=False, max_depth=4, min_samples_leaf=1, min_samples_split=2, n_estimators=400; total time=  23.9s\n",
      "[CV] END bootstrap=False, max_depth=4, min_samples_leaf=1, min_samples_split=2, n_estimators=400; total time=  23.9s\n",
      "[CV] END bootstrap=False, max_depth=4, min_samples_leaf=2, min_samples_split=2, n_estimators=200; total time=  11.8s\n",
      "[CV] END bootstrap=False, max_depth=4, min_samples_leaf=2, min_samples_split=2, n_estimators=200; total time=  11.9s\n",
      "[CV] END bootstrap=False, max_depth=4, min_samples_leaf=2, min_samples_split=2, n_estimators=200; total time=  12.1s\n",
      "[CV] END bootstrap=True, max_depth=None, min_samples_leaf=1, min_samples_split=10, n_estimators=600; total time= 1.8min\n",
      "[CV] END bootstrap=True, max_depth=None, min_samples_leaf=1, min_samples_split=10, n_estimators=600; total time= 1.8min\n",
      "[CV] END bootstrap=True, max_depth=None, min_samples_leaf=1, min_samples_split=10, n_estimators=600; total time= 1.7min\n",
      "[CV] END bootstrap=False, max_depth=None, min_samples_leaf=2, min_samples_split=2, n_estimators=4; total time=   1.1s\n",
      "[CV] END bootstrap=False, max_depth=None, min_samples_leaf=2, min_samples_split=2, n_estimators=4; total time=   1.1s\n",
      "[CV] END bootstrap=False, max_depth=None, min_samples_leaf=2, min_samples_split=2, n_estimators=4; total time=   1.0s\n",
      "[CV] END bootstrap=False, max_depth=16, min_samples_leaf=1, min_samples_split=2, n_estimators=10; total time=   2.0s\n",
      "[CV] END bootstrap=False, max_depth=16, min_samples_leaf=1, min_samples_split=2, n_estimators=10; total time=   2.0s\n",
      "[CV] END bootstrap=False, max_depth=16, min_samples_leaf=1, min_samples_split=2, n_estimators=10; total time=   2.0s\n",
      "[CV] END bootstrap=True, max_depth=16, min_samples_leaf=2, min_samples_split=5, n_estimators=15; total time=   2.0s\n",
      "[CV] END bootstrap=True, max_depth=16, min_samples_leaf=2, min_samples_split=5, n_estimators=15; total time=   2.1s\n",
      "[CV] END bootstrap=True, max_depth=16, min_samples_leaf=2, min_samples_split=5, n_estimators=15; total time=   2.0s\n",
      "[CV] END bootstrap=False, max_depth=4, min_samples_leaf=2, min_samples_split=5, n_estimators=150; total time=   8.9s\n",
      "[CV] END bootstrap=False, max_depth=4, min_samples_leaf=2, min_samples_split=5, n_estimators=150; total time=   8.7s\n",
      "[CV] END bootstrap=False, max_depth=4, min_samples_leaf=2, min_samples_split=5, n_estimators=150; total time=   9.1s\n",
      "[CV] END bootstrap=False, max_depth=16, min_samples_leaf=4, min_samples_split=2, n_estimators=400; total time= 1.4min\n",
      "[CV] END bootstrap=False, max_depth=16, min_samples_leaf=4, min_samples_split=2, n_estimators=400; total time= 1.4min\n",
      "[CV] END bootstrap=False, max_depth=16, min_samples_leaf=4, min_samples_split=2, n_estimators=400; total time= 1.4min\n",
      "[CV] END bootstrap=False, max_depth=10, min_samples_leaf=4, min_samples_split=5, n_estimators=100; total time=  14.0s\n",
      "[CV] END bootstrap=False, max_depth=10, min_samples_leaf=4, min_samples_split=5, n_estimators=100; total time=  15.0s\n",
      "[CV] END bootstrap=False, max_depth=10, min_samples_leaf=4, min_samples_split=5, n_estimators=100; total time=  14.9s\n",
      "[CV] END bootstrap=True, max_depth=None, min_samples_leaf=2, min_samples_split=5, n_estimators=10; total time=   1.9s\n",
      "[CV] END bootstrap=True, max_depth=None, min_samples_leaf=2, min_samples_split=5, n_estimators=10; total time=   1.9s\n",
      "[CV] END bootstrap=True, max_depth=None, min_samples_leaf=2, min_samples_split=5, n_estimators=10; total time=   1.8s\n",
      "[CV] END bootstrap=False, max_depth=2, min_samples_leaf=4, min_samples_split=10, n_estimators=600; total time=  19.9s\n",
      "[CV] END bootstrap=False, max_depth=2, min_samples_leaf=4, min_samples_split=10, n_estimators=600; total time=  19.8s\n",
      "[CV] END bootstrap=False, max_depth=2, min_samples_leaf=4, min_samples_split=10, n_estimators=600; total time=  20.6s\n",
      "[CV] END bootstrap=False, max_depth=10, min_samples_leaf=1, min_samples_split=10, n_estimators=4; total time=   0.6s\n",
      "[CV] END bootstrap=False, max_depth=10, min_samples_leaf=1, min_samples_split=10, n_estimators=4; total time=   0.6s\n",
      "[CV] END bootstrap=False, max_depth=10, min_samples_leaf=1, min_samples_split=10, n_estimators=4; total time=   0.6s\n",
      "[CV] END bootstrap=False, max_depth=2, min_samples_leaf=2, min_samples_split=10, n_estimators=50; total time=   1.7s\n",
      "[CV] END bootstrap=False, max_depth=2, min_samples_leaf=2, min_samples_split=10, n_estimators=50; total time=   1.7s\n",
      "[CV] END bootstrap=False, max_depth=2, min_samples_leaf=2, min_samples_split=10, n_estimators=50; total time=   1.7s\n",
      "[CV] END bootstrap=False, max_depth=10, min_samples_leaf=2, min_samples_split=10, n_estimators=10; total time=   1.5s\n",
      "[CV] END bootstrap=False, max_depth=10, min_samples_leaf=2, min_samples_split=10, n_estimators=10; total time=   1.4s\n",
      "[CV] END bootstrap=False, max_depth=10, min_samples_leaf=2, min_samples_split=10, n_estimators=10; total time=   1.5s\n",
      "[CV] END bootstrap=True, max_depth=10, min_samples_leaf=2, min_samples_split=10, n_estimators=150; total time=  15.5s\n",
      "[CV] END bootstrap=True, max_depth=10, min_samples_leaf=2, min_samples_split=10, n_estimators=150; total time=  15.6s\n",
      "[CV] END bootstrap=True, max_depth=10, min_samples_leaf=2, min_samples_split=10, n_estimators=150; total time=  16.0s\n"
     ]
    },
    {
     "data": {
      "text/plain": [
       "RandomizedSearchCV(cv=3, estimator=RandomForestRegressor(), n_iter=100,\n",
       "                   param_distributions={'bootstrap': [True, False],\n",
       "                                        'max_depth': [2, 4, 10, 16, None],\n",
       "                                        'min_samples_leaf': [1, 2, 4],\n",
       "                                        'min_samples_split': [2, 5, 10],\n",
       "                                        'n_estimators': [4, 10, 15, 50, 100,\n",
       "                                                         150, 200, 400, 600]},\n",
       "                   random_state=42, verbose=2)"
      ]
     },
     "execution_count": 41,
     "metadata": {},
     "output_type": "execute_result"
    }
   ],
   "source": [
    "from sklearn.model_selection import RandomizedSearchCV\n",
    "\n",
    "X_train, X_test, y_train, y_test = train_test_split(X, y, test_size=0.1, random_state=42)\n",
    "\n",
    "grid = {'bootstrap': [True, False],\n",
    " 'max_depth': [2, 4, 10, 16, None],\n",
    " 'min_samples_leaf': [1, 2, 4],\n",
    " 'min_samples_split': [2, 5, 10],\n",
    " 'n_estimators': [4, 10, 15, 50, 100, 150, 200, 400, 600]}\n",
    "\n",
    "rf_search = RandomForestRegressor()\n",
    "rf_search_model = RandomizedSearchCV(estimator = rf_search, param_distributions = grid, n_iter = 100, cv = 3, verbose=2, random_state=42)\n",
    "\n",
    "rf_search_model.fit(X_train, y_train)"
   ]
  },
  {
   "cell_type": "code",
   "execution_count": 42,
   "id": "03756de7-b127-46ab-9a8f-a862ac78f92f",
   "metadata": {},
   "outputs": [
    {
     "data": {
      "text/plain": [
       "{'n_estimators': 400,\n",
       " 'min_samples_split': 5,\n",
       " 'min_samples_leaf': 1,\n",
       " 'max_depth': 16,\n",
       " 'bootstrap': True}"
      ]
     },
     "execution_count": 42,
     "metadata": {},
     "output_type": "execute_result"
    }
   ],
   "source": [
    "rf_search_model.best_params_"
   ]
  },
  {
   "cell_type": "markdown",
   "id": "81c65307-100a-41a8-8147-df7f7dd25566",
   "metadata": {},
   "source": [
    "These parameters are different from what I had previously, I will try them in RF."
   ]
  },
  {
   "cell_type": "code",
   "execution_count": 43,
   "id": "01e506d7-7944-4a66-885e-7707ff3aa377",
   "metadata": {},
   "outputs": [
    {
     "name": "stdout",
     "output_type": "stream",
     "text": [
      "train score: 0.61\n",
      "test score: 0.467\n"
     ]
    }
   ],
   "source": [
    "regressor = RandomForestRegressor(n_estimators = 400, min_samples_split = 5, min_samples_leaf = 1, max_depth = 16, bootstrap = True, random_state = 42)\n",
    "regressor.fit(X_train, y_train)\n",
    "\n",
    "y_test_preds_rf = regressor.predict(X_test)\n",
    "y_train_preds_rf = regressor.predict(X_train)\n",
    "\n",
    "test_score_rf = r2_score(y_test, y_test_preds_rf)\n",
    "train_score_rf = r2_score(y_train, y_train_preds_rf)\n",
    "\n",
    "print('train score: {0:.3g}'.format(train_score_rf))\n",
    "print('test score: {0:.3g}'.format(test_score_rf))"
   ]
  },
  {
   "cell_type": "markdown",
   "id": "c3d49fa7-97bf-42e3-a5c5-262107975776",
   "metadata": {},
   "source": [
    "Well, the train score is worse, but the test score is the best I had, so I'll leave it at that. My guess is that the dataset lacks significant features, so it may not be possible to achieve higher accuracy on quality estimate with the data we have. "
   ]
  },
  {
   "cell_type": "code",
   "execution_count": null,
   "id": "f80ced9c-1da8-4b36-b79b-2837bfa03be0",
   "metadata": {},
   "outputs": [],
   "source": []
  }
 ],
 "metadata": {
  "kernelspec": {
   "display_name": "Python 3",
   "language": "python",
   "name": "python3"
  },
  "language_info": {
   "codemirror_mode": {
    "name": "ipython",
    "version": 3
   },
   "file_extension": ".py",
   "mimetype": "text/x-python",
   "name": "python",
   "nbconvert_exporter": "python",
   "pygments_lexer": "ipython3",
   "version": "3.8.8"
  }
 },
 "nbformat": 4,
 "nbformat_minor": 5
}
